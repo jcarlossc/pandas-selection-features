{
 "cells": [
  {
   "cell_type": "markdown",
   "id": "0cfdeca2",
   "metadata": {
    "papermill": {
     "duration": 0.006808,
     "end_time": "2025-10-21T01:08:29.617275",
     "exception": false,
     "start_time": "2025-10-21T01:08:29.610467",
     "status": "completed"
    },
    "tags": []
   },
   "source": [
    "<h1>📌 Explorando a Biblioteca Pandas em Python: seleção de dados</h1>\n",
    "\n",
    "<h3>📌 Um Guia Prático para Iniciantes</h3>\n",
    "\n",
    "<p style='font-size:16px;'>A biblioteca Pandas é uma das ferramentas mais poderosas e populares da linguagem Python para análise e manipulação de dados. Criada por Wes McKinney, ela se tornou essencial para cientistas de dados, analistas e desenvolvedores que trabalham com grandes volumes de informações.</p>\n",
    "\n",
    "<p>O Pandas (derivado de Panel Data) é uma biblioteca de código aberto voltada para trabalhar com dados estruturados, ou seja, dados organizados em tabelas.</p>\n",
    "\n",
    "<h3>📌 Seleção de dados</h3>\n",
    "\n",
    "<p style='font-size:16px;'>A seleção de dados é uma das tarefas mais importantes no uso do Pandas, pois permite acessar informações de forma flexível. No Pandas, a seleção é feita principalmente por indexação (usando colchetes [] - operador de indexação), usando os métodos .loc (para rótulos) e .iloc (para índices numéricos), entre outras formas. Você pode selecionar colunas específicas, múltiplas colunas, linhas baseadas em condições ou por posição, e até subconjuntos que combinam linhas e colunas.</p>\n",
    "\n",
    "📌Autor: Carlos da Costa<br>\n",
    "📌Recife, PE - Brasil<br>\n",
    "📌Telefone: +55 81 99712 9140<br>\n",
    "📌Telegram: @jcarlossc<br>\n",
    "📌Blogger linguagem R: https://informaticus77-r.blogspot.com/<br>\n",
    "📌Blogger linguagem Python: https://informaticus77-python.blogspot.com/<br>\n",
    "📌Email: jcarlossc1977@gmail.com<br>\n",
    "📌Portfólio em construção: https://portfolio-carlos-costa.netlify.app/<br>\n",
    "📌LinkedIn: https://www.linkedin.com/in/carlos-da-costa-669252149/<br>\n",
    "📌GitHub: https://github.com/jcarlossc<br>\n",
    "📌Kaggle: https://www.kaggle.com/jcarlossc/<br>\n",
    "📌Twitter/X: https://x.com/jcarlossc1977"
   ]
  },
  {
   "cell_type": "code",
   "execution_count": 1,
   "id": "30064fff",
   "metadata": {
    "execution": {
     "iopub.execute_input": "2025-10-21T01:08:29.629783Z",
     "iopub.status.busy": "2025-10-21T01:08:29.629273Z",
     "iopub.status.idle": "2025-10-21T01:08:31.827129Z",
     "shell.execute_reply": "2025-10-21T01:08:31.826035Z"
    },
    "papermill": {
     "duration": 2.206127,
     "end_time": "2025-10-21T01:08:31.829243",
     "exception": false,
     "start_time": "2025-10-21T01:08:29.623116",
     "status": "completed"
    },
    "tags": []
   },
   "outputs": [],
   "source": [
    "# Importando a biblioteca Pandas\n",
    "import pandas as pd"
   ]
  },
  {
   "cell_type": "code",
   "execution_count": 2,
   "id": "a9326dba",
   "metadata": {
    "execution": {
     "iopub.execute_input": "2025-10-21T01:08:31.842519Z",
     "iopub.status.busy": "2025-10-21T01:08:31.842063Z",
     "iopub.status.idle": "2025-10-21T01:08:31.852896Z",
     "shell.execute_reply": "2025-10-21T01:08:31.851843Z"
    },
    "papermill": {
     "duration": 0.019448,
     "end_time": "2025-10-21T01:08:31.854690",
     "exception": false,
     "start_time": "2025-10-21T01:08:31.835242",
     "status": "completed"
    },
    "tags": []
   },
   "outputs": [],
   "source": [
    "# Criando um DataFrame de exemplo\n",
    "dados = pd.DataFrame(\n",
    "    {\n",
    "    'nome': ['Teresa', 'Soares', 'Jose', 'Carlos', 'Maria', 'Teresa'],\n",
    "    'idade': [3, 35, 31, 48, 40, 56],\n",
    "    'cidade': ['Recife', 'Paulista', 'Olinda', 'Caruaru', 'Petrolina', 'Timbauba'],\n",
    "    'salario': [3200, 4500, 5000, 3700, 6000, 7000]\n",
    "    }\n",
    ")"
   ]
  },
  {
   "cell_type": "code",
   "execution_count": 3,
   "id": "2df85320",
   "metadata": {
    "execution": {
     "iopub.execute_input": "2025-10-21T01:08:31.867227Z",
     "iopub.status.busy": "2025-10-21T01:08:31.866011Z",
     "iopub.status.idle": "2025-10-21T01:08:31.903699Z",
     "shell.execute_reply": "2025-10-21T01:08:31.902484Z"
    },
    "papermill": {
     "duration": 0.045378,
     "end_time": "2025-10-21T01:08:31.905337",
     "exception": false,
     "start_time": "2025-10-21T01:08:31.859959",
     "status": "completed"
    },
    "tags": []
   },
   "outputs": [
    {
     "name": "stdout",
     "output_type": "stream",
     "text": [
      "<class 'pandas.core.frame.DataFrame'>\n",
      "RangeIndex: 6 entries, 0 to 5\n",
      "Data columns (total 4 columns):\n",
      " #   Column   Non-Null Count  Dtype \n",
      "---  ------   --------------  ----- \n",
      " 0   nome     6 non-null      object\n",
      " 1   idade    6 non-null      int64 \n",
      " 2   cidade   6 non-null      object\n",
      " 3   salario  6 non-null      int64 \n",
      "dtypes: int64(2), object(2)\n",
      "memory usage: 324.0+ bytes\n"
     ]
    }
   ],
   "source": [
    "# Informações sobre quantidade de observações(6), número de colunas(4),\n",
    "# uso de memória e tipos de dados.\n",
    "dados.info()"
   ]
  },
  {
   "cell_type": "markdown",
   "id": "ee1890e5",
   "metadata": {
    "papermill": {
     "duration": 0.00494,
     "end_time": "2025-10-21T01:08:31.915647",
     "exception": false,
     "start_time": "2025-10-21T01:08:31.910707",
     "status": "completed"
    },
    "tags": []
   },
   "source": [
    "<h2>📌 Seleção de colunas</h2>"
   ]
  },
  {
   "cell_type": "code",
   "execution_count": 4,
   "id": "891df7ff",
   "metadata": {
    "execution": {
     "iopub.execute_input": "2025-10-21T01:08:31.927457Z",
     "iopub.status.busy": "2025-10-21T01:08:31.927112Z",
     "iopub.status.idle": "2025-10-21T01:08:31.934887Z",
     "shell.execute_reply": "2025-10-21T01:08:31.933972Z"
    },
    "papermill": {
     "duration": 0.015597,
     "end_time": "2025-10-21T01:08:31.936376",
     "exception": false,
     "start_time": "2025-10-21T01:08:31.920779",
     "status": "completed"
    },
    "tags": []
   },
   "outputs": [
    {
     "data": {
      "text/plain": [
       "0    Teresa\n",
       "1    Soares\n",
       "2      Jose\n",
       "3    Carlos\n",
       "4     Maria\n",
       "5    Teresa\n",
       "Name: nome, dtype: object"
      ]
     },
     "execution_count": 4,
     "metadata": {},
     "output_type": "execute_result"
    }
   ],
   "source": [
    "# Selecionar uma única coluna.\n",
    "dados['nome']"
   ]
  },
  {
   "cell_type": "code",
   "execution_count": 5,
   "id": "741ce70c",
   "metadata": {
    "execution": {
     "iopub.execute_input": "2025-10-21T01:08:31.948158Z",
     "iopub.status.busy": "2025-10-21T01:08:31.947838Z",
     "iopub.status.idle": "2025-10-21T01:08:31.971108Z",
     "shell.execute_reply": "2025-10-21T01:08:31.970137Z"
    },
    "papermill": {
     "duration": 0.031297,
     "end_time": "2025-10-21T01:08:31.972973",
     "exception": false,
     "start_time": "2025-10-21T01:08:31.941676",
     "status": "completed"
    },
    "tags": []
   },
   "outputs": [
    {
     "data": {
      "text/html": [
       "<div>\n",
       "<style scoped>\n",
       "    .dataframe tbody tr th:only-of-type {\n",
       "        vertical-align: middle;\n",
       "    }\n",
       "\n",
       "    .dataframe tbody tr th {\n",
       "        vertical-align: top;\n",
       "    }\n",
       "\n",
       "    .dataframe thead th {\n",
       "        text-align: right;\n",
       "    }\n",
       "</style>\n",
       "<table border=\"1\" class=\"dataframe\">\n",
       "  <thead>\n",
       "    <tr style=\"text-align: right;\">\n",
       "      <th></th>\n",
       "      <th>nome</th>\n",
       "      <th>idade</th>\n",
       "    </tr>\n",
       "  </thead>\n",
       "  <tbody>\n",
       "    <tr>\n",
       "      <th>0</th>\n",
       "      <td>Teresa</td>\n",
       "      <td>3</td>\n",
       "    </tr>\n",
       "    <tr>\n",
       "      <th>1</th>\n",
       "      <td>Soares</td>\n",
       "      <td>35</td>\n",
       "    </tr>\n",
       "    <tr>\n",
       "      <th>2</th>\n",
       "      <td>Jose</td>\n",
       "      <td>31</td>\n",
       "    </tr>\n",
       "    <tr>\n",
       "      <th>3</th>\n",
       "      <td>Carlos</td>\n",
       "      <td>48</td>\n",
       "    </tr>\n",
       "    <tr>\n",
       "      <th>4</th>\n",
       "      <td>Maria</td>\n",
       "      <td>40</td>\n",
       "    </tr>\n",
       "    <tr>\n",
       "      <th>5</th>\n",
       "      <td>Teresa</td>\n",
       "      <td>56</td>\n",
       "    </tr>\n",
       "  </tbody>\n",
       "</table>\n",
       "</div>"
      ],
      "text/plain": [
       "     nome  idade\n",
       "0  Teresa      3\n",
       "1  Soares     35\n",
       "2    Jose     31\n",
       "3  Carlos     48\n",
       "4   Maria     40\n",
       "5  Teresa     56"
      ]
     },
     "execution_count": 5,
     "metadata": {},
     "output_type": "execute_result"
    }
   ],
   "source": [
    "# Selecionar multiplas colunas.\n",
    "dados[['nome', 'idade']]"
   ]
  },
  {
   "cell_type": "markdown",
   "id": "863ba657",
   "metadata": {
    "papermill": {
     "duration": 0.005076,
     "end_time": "2025-10-21T01:08:31.983610",
     "exception": false,
     "start_time": "2025-10-21T01:08:31.978534",
     "status": "completed"
    },
    "tags": []
   },
   "source": [
    "<h2>📌 Seleção por índices e posições com iloc.</h2>"
   ]
  },
  {
   "cell_type": "code",
   "execution_count": 6,
   "id": "7b18d74e",
   "metadata": {
    "execution": {
     "iopub.execute_input": "2025-10-21T01:08:31.996646Z",
     "iopub.status.busy": "2025-10-21T01:08:31.996145Z",
     "iopub.status.idle": "2025-10-21T01:08:32.003605Z",
     "shell.execute_reply": "2025-10-21T01:08:32.002705Z"
    },
    "papermill": {
     "duration": 0.015881,
     "end_time": "2025-10-21T01:08:32.005216",
     "exception": false,
     "start_time": "2025-10-21T01:08:31.989335",
     "status": "completed"
    },
    "tags": []
   },
   "outputs": [
    {
     "data": {
      "text/plain": [
       "nome       Teresa\n",
       "idade           3\n",
       "cidade     Recife\n",
       "salario      3200\n",
       "Name: 0, dtype: object"
      ]
     },
     "execution_count": 6,
     "metadata": {},
     "output_type": "execute_result"
    }
   ],
   "source": [
    "# Seleciona a primeira linha.\n",
    "dados.iloc[0]        "
   ]
  },
  {
   "cell_type": "code",
   "execution_count": 7,
   "id": "999ec845",
   "metadata": {
    "execution": {
     "iopub.execute_input": "2025-10-21T01:08:32.017353Z",
     "iopub.status.busy": "2025-10-21T01:08:32.017033Z",
     "iopub.status.idle": "2025-10-21T01:08:32.027072Z",
     "shell.execute_reply": "2025-10-21T01:08:32.025908Z"
    },
    "papermill": {
     "duration": 0.017794,
     "end_time": "2025-10-21T01:08:32.028613",
     "exception": false,
     "start_time": "2025-10-21T01:08:32.010819",
     "status": "completed"
    },
    "tags": []
   },
   "outputs": [
    {
     "data": {
      "text/html": [
       "<div>\n",
       "<style scoped>\n",
       "    .dataframe tbody tr th:only-of-type {\n",
       "        vertical-align: middle;\n",
       "    }\n",
       "\n",
       "    .dataframe tbody tr th {\n",
       "        vertical-align: top;\n",
       "    }\n",
       "\n",
       "    .dataframe thead th {\n",
       "        text-align: right;\n",
       "    }\n",
       "</style>\n",
       "<table border=\"1\" class=\"dataframe\">\n",
       "  <thead>\n",
       "    <tr style=\"text-align: right;\">\n",
       "      <th></th>\n",
       "      <th>nome</th>\n",
       "      <th>idade</th>\n",
       "      <th>cidade</th>\n",
       "      <th>salario</th>\n",
       "    </tr>\n",
       "  </thead>\n",
       "  <tbody>\n",
       "    <tr>\n",
       "      <th>0</th>\n",
       "      <td>Teresa</td>\n",
       "      <td>3</td>\n",
       "      <td>Recife</td>\n",
       "      <td>3200</td>\n",
       "    </tr>\n",
       "    <tr>\n",
       "      <th>1</th>\n",
       "      <td>Soares</td>\n",
       "      <td>35</td>\n",
       "      <td>Paulista</td>\n",
       "      <td>4500</td>\n",
       "    </tr>\n",
       "    <tr>\n",
       "      <th>2</th>\n",
       "      <td>Jose</td>\n",
       "      <td>31</td>\n",
       "      <td>Olinda</td>\n",
       "      <td>5000</td>\n",
       "    </tr>\n",
       "  </tbody>\n",
       "</table>\n",
       "</div>"
      ],
      "text/plain": [
       "     nome  idade    cidade  salario\n",
       "0  Teresa      3    Recife     3200\n",
       "1  Soares     35  Paulista     4500\n",
       "2    Jose     31    Olinda     5000"
      ]
     },
     "execution_count": 7,
     "metadata": {},
     "output_type": "execute_result"
    }
   ],
   "source": [
    "# Da 1ª à 3ª linha (exclusive)\n",
    "dados.iloc[0:3]      "
   ]
  },
  {
   "cell_type": "code",
   "execution_count": 8,
   "id": "3d1732ab",
   "metadata": {
    "execution": {
     "iopub.execute_input": "2025-10-21T01:08:32.041688Z",
     "iopub.status.busy": "2025-10-21T01:08:32.040700Z",
     "iopub.status.idle": "2025-10-21T01:08:32.048541Z",
     "shell.execute_reply": "2025-10-21T01:08:32.047574Z"
    },
    "papermill": {
     "duration": 0.015944,
     "end_time": "2025-10-21T01:08:32.050177",
     "exception": false,
     "start_time": "2025-10-21T01:08:32.034233",
     "status": "completed"
    },
    "tags": []
   },
   "outputs": [
    {
     "data": {
      "text/plain": [
       "0    Teresa\n",
       "1    Soares\n",
       "2      Jose\n",
       "3    Carlos\n",
       "4     Maria\n",
       "5    Teresa\n",
       "Name: nome, dtype: object"
      ]
     },
     "execution_count": 8,
     "metadata": {},
     "output_type": "execute_result"
    }
   ],
   "source": [
    "# Seleciona primeira coluna.\n",
    "dados.iloc[:, 0]     "
   ]
  },
  {
   "cell_type": "code",
   "execution_count": 9,
   "id": "21164828",
   "metadata": {
    "execution": {
     "iopub.execute_input": "2025-10-21T01:08:32.062861Z",
     "iopub.status.busy": "2025-10-21T01:08:32.062471Z",
     "iopub.status.idle": "2025-10-21T01:08:32.071633Z",
     "shell.execute_reply": "2025-10-21T01:08:32.070665Z"
    },
    "papermill": {
     "duration": 0.017584,
     "end_time": "2025-10-21T01:08:32.073498",
     "exception": false,
     "start_time": "2025-10-21T01:08:32.055914",
     "status": "completed"
    },
    "tags": []
   },
   "outputs": [
    {
     "data": {
      "text/html": [
       "<div>\n",
       "<style scoped>\n",
       "    .dataframe tbody tr th:only-of-type {\n",
       "        vertical-align: middle;\n",
       "    }\n",
       "\n",
       "    .dataframe tbody tr th {\n",
       "        vertical-align: top;\n",
       "    }\n",
       "\n",
       "    .dataframe thead th {\n",
       "        text-align: right;\n",
       "    }\n",
       "</style>\n",
       "<table border=\"1\" class=\"dataframe\">\n",
       "  <thead>\n",
       "    <tr style=\"text-align: right;\">\n",
       "      <th></th>\n",
       "      <th>nome</th>\n",
       "      <th>idade</th>\n",
       "    </tr>\n",
       "  </thead>\n",
       "  <tbody>\n",
       "    <tr>\n",
       "      <th>0</th>\n",
       "      <td>Teresa</td>\n",
       "      <td>3</td>\n",
       "    </tr>\n",
       "    <tr>\n",
       "      <th>1</th>\n",
       "      <td>Soares</td>\n",
       "      <td>35</td>\n",
       "    </tr>\n",
       "    <tr>\n",
       "      <th>2</th>\n",
       "      <td>Jose</td>\n",
       "      <td>31</td>\n",
       "    </tr>\n",
       "    <tr>\n",
       "      <th>3</th>\n",
       "      <td>Carlos</td>\n",
       "      <td>48</td>\n",
       "    </tr>\n",
       "    <tr>\n",
       "      <th>4</th>\n",
       "      <td>Maria</td>\n",
       "      <td>40</td>\n",
       "    </tr>\n",
       "    <tr>\n",
       "      <th>5</th>\n",
       "      <td>Teresa</td>\n",
       "      <td>56</td>\n",
       "    </tr>\n",
       "  </tbody>\n",
       "</table>\n",
       "</div>"
      ],
      "text/plain": [
       "     nome  idade\n",
       "0  Teresa      3\n",
       "1  Soares     35\n",
       "2    Jose     31\n",
       "3  Carlos     48\n",
       "4   Maria     40\n",
       "5  Teresa     56"
      ]
     },
     "execution_count": 9,
     "metadata": {},
     "output_type": "execute_result"
    }
   ],
   "source": [
    "# Duas primeiras colunas\n",
    "dados.iloc[:, 0:2]   "
   ]
  },
  {
   "cell_type": "code",
   "execution_count": 10,
   "id": "200f3abb",
   "metadata": {
    "execution": {
     "iopub.execute_input": "2025-10-21T01:08:32.086562Z",
     "iopub.status.busy": "2025-10-21T01:08:32.086227Z",
     "iopub.status.idle": "2025-10-21T01:08:32.092419Z",
     "shell.execute_reply": "2025-10-21T01:08:32.091604Z"
    },
    "papermill": {
     "duration": 0.0144,
     "end_time": "2025-10-21T01:08:32.094043",
     "exception": false,
     "start_time": "2025-10-21T01:08:32.079643",
     "status": "completed"
    },
    "tags": []
   },
   "outputs": [
    {
     "data": {
      "text/plain": [
       "'Paulista'"
      ]
     },
     "execution_count": 10,
     "metadata": {},
     "output_type": "execute_result"
    }
   ],
   "source": [
    "# Seleciona elemento linha 2, coluna 3\n",
    "dados.iloc[1, 2]     "
   ]
  },
  {
   "cell_type": "markdown",
   "id": "fc9a9f23",
   "metadata": {
    "papermill": {
     "duration": 0.005811,
     "end_time": "2025-10-21T01:08:32.105710",
     "exception": false,
     "start_time": "2025-10-21T01:08:32.099899",
     "status": "completed"
    },
    "tags": []
   },
   "source": [
    "<h2>📌 Seleção por rótulo(label) com loc.</h2>"
   ]
  },
  {
   "cell_type": "code",
   "execution_count": 11,
   "id": "2def59d4",
   "metadata": {
    "execution": {
     "iopub.execute_input": "2025-10-21T01:08:32.118481Z",
     "iopub.status.busy": "2025-10-21T01:08:32.118141Z",
     "iopub.status.idle": "2025-10-21T01:08:32.128722Z",
     "shell.execute_reply": "2025-10-21T01:08:32.127577Z"
    },
    "papermill": {
     "duration": 0.01901,
     "end_time": "2025-10-21T01:08:32.130416",
     "exception": false,
     "start_time": "2025-10-21T01:08:32.111406",
     "status": "completed"
    },
    "tags": []
   },
   "outputs": [
    {
     "data": {
      "text/html": [
       "<div>\n",
       "<style scoped>\n",
       "    .dataframe tbody tr th:only-of-type {\n",
       "        vertical-align: middle;\n",
       "    }\n",
       "\n",
       "    .dataframe tbody tr th {\n",
       "        vertical-align: top;\n",
       "    }\n",
       "\n",
       "    .dataframe thead th {\n",
       "        text-align: right;\n",
       "    }\n",
       "</style>\n",
       "<table border=\"1\" class=\"dataframe\">\n",
       "  <thead>\n",
       "    <tr style=\"text-align: right;\">\n",
       "      <th></th>\n",
       "      <th>nome</th>\n",
       "      <th>cidade</th>\n",
       "    </tr>\n",
       "  </thead>\n",
       "  <tbody>\n",
       "    <tr>\n",
       "      <th>0</th>\n",
       "      <td>Teresa</td>\n",
       "      <td>Recife</td>\n",
       "    </tr>\n",
       "    <tr>\n",
       "      <th>1</th>\n",
       "      <td>Soares</td>\n",
       "      <td>Paulista</td>\n",
       "    </tr>\n",
       "    <tr>\n",
       "      <th>2</th>\n",
       "      <td>Jose</td>\n",
       "      <td>Olinda</td>\n",
       "    </tr>\n",
       "  </tbody>\n",
       "</table>\n",
       "</div>"
      ],
      "text/plain": [
       "     nome    cidade\n",
       "0  Teresa    Recife\n",
       "1  Soares  Paulista\n",
       "2    Jose    Olinda"
      ]
     },
     "execution_count": 11,
     "metadata": {},
     "output_type": "execute_result"
    }
   ],
   "source": [
    "# Seleciona linhas com íntervalo de índices e nomes de colunas.\n",
    "dados.loc[0:2, ['nome', 'cidade']]                   "
   ]
  },
  {
   "cell_type": "code",
   "execution_count": 12,
   "id": "d2ba3f85",
   "metadata": {
    "execution": {
     "iopub.execute_input": "2025-10-21T01:08:32.144068Z",
     "iopub.status.busy": "2025-10-21T01:08:32.143700Z",
     "iopub.status.idle": "2025-10-21T01:08:32.150332Z",
     "shell.execute_reply": "2025-10-21T01:08:32.149317Z"
    },
    "papermill": {
     "duration": 0.015408,
     "end_time": "2025-10-21T01:08:32.152122",
     "exception": false,
     "start_time": "2025-10-21T01:08:32.136714",
     "status": "completed"
    },
    "tags": []
   },
   "outputs": [],
   "source": [
    "# Definindo a coluna \"name\" como índice (rótulo das linhas).\n",
    "dados_loc = pd.DataFrame(dados).set_index('nome')"
   ]
  },
  {
   "cell_type": "code",
   "execution_count": 13,
   "id": "b7153527",
   "metadata": {
    "execution": {
     "iopub.execute_input": "2025-10-21T01:08:32.165503Z",
     "iopub.status.busy": "2025-10-21T01:08:32.165198Z",
     "iopub.status.idle": "2025-10-21T01:08:32.176545Z",
     "shell.execute_reply": "2025-10-21T01:08:32.175688Z"
    },
    "papermill": {
     "duration": 0.020059,
     "end_time": "2025-10-21T01:08:32.178223",
     "exception": false,
     "start_time": "2025-10-21T01:08:32.158164",
     "status": "completed"
    },
    "tags": []
   },
   "outputs": [
    {
     "data": {
      "text/html": [
       "<div>\n",
       "<style scoped>\n",
       "    .dataframe tbody tr th:only-of-type {\n",
       "        vertical-align: middle;\n",
       "    }\n",
       "\n",
       "    .dataframe tbody tr th {\n",
       "        vertical-align: top;\n",
       "    }\n",
       "\n",
       "    .dataframe thead th {\n",
       "        text-align: right;\n",
       "    }\n",
       "</style>\n",
       "<table border=\"1\" class=\"dataframe\">\n",
       "  <thead>\n",
       "    <tr style=\"text-align: right;\">\n",
       "      <th></th>\n",
       "      <th>idade</th>\n",
       "      <th>cidade</th>\n",
       "      <th>salario</th>\n",
       "    </tr>\n",
       "    <tr>\n",
       "      <th>nome</th>\n",
       "      <th></th>\n",
       "      <th></th>\n",
       "      <th></th>\n",
       "    </tr>\n",
       "  </thead>\n",
       "  <tbody>\n",
       "    <tr>\n",
       "      <th>Teresa</th>\n",
       "      <td>3</td>\n",
       "      <td>Recife</td>\n",
       "      <td>3200</td>\n",
       "    </tr>\n",
       "    <tr>\n",
       "      <th>Teresa</th>\n",
       "      <td>56</td>\n",
       "      <td>Timbauba</td>\n",
       "      <td>7000</td>\n",
       "    </tr>\n",
       "  </tbody>\n",
       "</table>\n",
       "</div>"
      ],
      "text/plain": [
       "        idade    cidade  salario\n",
       "nome                            \n",
       "Teresa      3    Recife     3200\n",
       "Teresa     56  Timbauba     7000"
      ]
     },
     "execution_count": 13,
     "metadata": {},
     "output_type": "execute_result"
    }
   ],
   "source": [
    "# Seleciona uma linha pelo rótulo.\n",
    "dados_loc.loc['Teresa']"
   ]
  },
  {
   "cell_type": "code",
   "execution_count": 14,
   "id": "5859afd3",
   "metadata": {
    "execution": {
     "iopub.execute_input": "2025-10-21T01:08:32.191787Z",
     "iopub.status.busy": "2025-10-21T01:08:32.191314Z",
     "iopub.status.idle": "2025-10-21T01:08:32.201097Z",
     "shell.execute_reply": "2025-10-21T01:08:32.199960Z"
    },
    "papermill": {
     "duration": 0.018171,
     "end_time": "2025-10-21T01:08:32.202516",
     "exception": false,
     "start_time": "2025-10-21T01:08:32.184345",
     "status": "completed"
    },
    "tags": []
   },
   "outputs": [
    {
     "data": {
      "text/html": [
       "<div>\n",
       "<style scoped>\n",
       "    .dataframe tbody tr th:only-of-type {\n",
       "        vertical-align: middle;\n",
       "    }\n",
       "\n",
       "    .dataframe tbody tr th {\n",
       "        vertical-align: top;\n",
       "    }\n",
       "\n",
       "    .dataframe thead th {\n",
       "        text-align: right;\n",
       "    }\n",
       "</style>\n",
       "<table border=\"1\" class=\"dataframe\">\n",
       "  <thead>\n",
       "    <tr style=\"text-align: right;\">\n",
       "      <th></th>\n",
       "      <th>idade</th>\n",
       "      <th>cidade</th>\n",
       "      <th>salario</th>\n",
       "    </tr>\n",
       "    <tr>\n",
       "      <th>nome</th>\n",
       "      <th></th>\n",
       "      <th></th>\n",
       "      <th></th>\n",
       "    </tr>\n",
       "  </thead>\n",
       "  <tbody>\n",
       "    <tr>\n",
       "      <th>Carlos</th>\n",
       "      <td>48</td>\n",
       "      <td>Caruaru</td>\n",
       "      <td>3700</td>\n",
       "    </tr>\n",
       "    <tr>\n",
       "      <th>Teresa</th>\n",
       "      <td>3</td>\n",
       "      <td>Recife</td>\n",
       "      <td>3200</td>\n",
       "    </tr>\n",
       "    <tr>\n",
       "      <th>Teresa</th>\n",
       "      <td>56</td>\n",
       "      <td>Timbauba</td>\n",
       "      <td>7000</td>\n",
       "    </tr>\n",
       "  </tbody>\n",
       "</table>\n",
       "</div>"
      ],
      "text/plain": [
       "        idade    cidade  salario\n",
       "nome                            \n",
       "Carlos     48   Caruaru     3700\n",
       "Teresa      3    Recife     3200\n",
       "Teresa     56  Timbauba     7000"
      ]
     },
     "execution_count": 14,
     "metadata": {},
     "output_type": "execute_result"
    }
   ],
   "source": [
    "# Seleciona uma linha pelo rótulo.\n",
    "dados_loc.loc[['Carlos', 'Teresa']]"
   ]
  },
  {
   "cell_type": "code",
   "execution_count": 15,
   "id": "bea47f79",
   "metadata": {
    "execution": {
     "iopub.execute_input": "2025-10-21T01:08:32.216683Z",
     "iopub.status.busy": "2025-10-21T01:08:32.216392Z",
     "iopub.status.idle": "2025-10-21T01:08:32.222670Z",
     "shell.execute_reply": "2025-10-21T01:08:32.221833Z"
    },
    "papermill": {
     "duration": 0.015111,
     "end_time": "2025-10-21T01:08:32.224138",
     "exception": false,
     "start_time": "2025-10-21T01:08:32.209027",
     "status": "completed"
    },
    "tags": []
   },
   "outputs": [
    {
     "data": {
      "text/plain": [
       "4500"
      ]
     },
     "execution_count": 15,
     "metadata": {},
     "output_type": "execute_result"
    }
   ],
   "source": [
    "# Seleciona linha e coluna.\n",
    "dados_loc.loc['Soares', 'salario']"
   ]
  },
  {
   "cell_type": "code",
   "execution_count": 16,
   "id": "9343daf2",
   "metadata": {
    "execution": {
     "iopub.execute_input": "2025-10-21T01:08:32.238151Z",
     "iopub.status.busy": "2025-10-21T01:08:32.237832Z",
     "iopub.status.idle": "2025-10-21T01:08:32.252420Z",
     "shell.execute_reply": "2025-10-21T01:08:32.251585Z"
    },
    "papermill": {
     "duration": 0.023949,
     "end_time": "2025-10-21T01:08:32.254432",
     "exception": false,
     "start_time": "2025-10-21T01:08:32.230483",
     "status": "completed"
    },
    "tags": []
   },
   "outputs": [
    {
     "data": {
      "text/html": [
       "<div>\n",
       "<style scoped>\n",
       "    .dataframe tbody tr th:only-of-type {\n",
       "        vertical-align: middle;\n",
       "    }\n",
       "\n",
       "    .dataframe tbody tr th {\n",
       "        vertical-align: top;\n",
       "    }\n",
       "\n",
       "    .dataframe thead th {\n",
       "        text-align: right;\n",
       "    }\n",
       "</style>\n",
       "<table border=\"1\" class=\"dataframe\">\n",
       "  <thead>\n",
       "    <tr style=\"text-align: right;\">\n",
       "      <th></th>\n",
       "      <th>idade</th>\n",
       "      <th>cidade</th>\n",
       "    </tr>\n",
       "    <tr>\n",
       "      <th>nome</th>\n",
       "      <th></th>\n",
       "      <th></th>\n",
       "    </tr>\n",
       "  </thead>\n",
       "  <tbody>\n",
       "    <tr>\n",
       "      <th>Soares</th>\n",
       "      <td>35</td>\n",
       "      <td>Paulista</td>\n",
       "    </tr>\n",
       "    <tr>\n",
       "      <th>Jose</th>\n",
       "      <td>31</td>\n",
       "      <td>Olinda</td>\n",
       "    </tr>\n",
       "  </tbody>\n",
       "</table>\n",
       "</div>"
      ],
      "text/plain": [
       "        idade    cidade\n",
       "nome                   \n",
       "Soares     35  Paulista\n",
       "Jose       31    Olinda"
      ]
     },
     "execution_count": 16,
     "metadata": {},
     "output_type": "execute_result"
    }
   ],
   "source": [
    "# Seleciona linhas e colunas específicas.\n",
    "dados_loc.loc['Soares':'Jose', ['idade', 'cidade']]"
   ]
  },
  {
   "cell_type": "markdown",
   "id": "09f69040",
   "metadata": {
    "papermill": {
     "duration": 0.005973,
     "end_time": "2025-10-21T01:08:32.267055",
     "exception": false,
     "start_time": "2025-10-21T01:08:32.261082",
     "status": "completed"
    },
    "tags": []
   },
   "source": [
    "<h2>📌 Seleção por valores nulos ou duplicados</h2>"
   ]
  },
  {
   "cell_type": "code",
   "execution_count": 17,
   "id": "cbda7540",
   "metadata": {
    "execution": {
     "iopub.execute_input": "2025-10-21T01:08:32.281468Z",
     "iopub.status.busy": "2025-10-21T01:08:32.280728Z",
     "iopub.status.idle": "2025-10-21T01:08:32.290086Z",
     "shell.execute_reply": "2025-10-21T01:08:32.288832Z"
    },
    "papermill": {
     "duration": 0.018702,
     "end_time": "2025-10-21T01:08:32.292038",
     "exception": false,
     "start_time": "2025-10-21T01:08:32.273336",
     "status": "completed"
    },
    "tags": []
   },
   "outputs": [
    {
     "data": {
      "text/html": [
       "<div>\n",
       "<style scoped>\n",
       "    .dataframe tbody tr th:only-of-type {\n",
       "        vertical-align: middle;\n",
       "    }\n",
       "\n",
       "    .dataframe tbody tr th {\n",
       "        vertical-align: top;\n",
       "    }\n",
       "\n",
       "    .dataframe thead th {\n",
       "        text-align: right;\n",
       "    }\n",
       "</style>\n",
       "<table border=\"1\" class=\"dataframe\">\n",
       "  <thead>\n",
       "    <tr style=\"text-align: right;\">\n",
       "      <th></th>\n",
       "      <th>nome</th>\n",
       "      <th>idade</th>\n",
       "      <th>cidade</th>\n",
       "      <th>salario</th>\n",
       "    </tr>\n",
       "  </thead>\n",
       "  <tbody>\n",
       "  </tbody>\n",
       "</table>\n",
       "</div>"
      ],
      "text/plain": [
       "Empty DataFrame\n",
       "Columns: [nome, idade, cidade, salario]\n",
       "Index: []"
      ]
     },
     "execution_count": 17,
     "metadata": {},
     "output_type": "execute_result"
    }
   ],
   "source": [
    "# Seleção por dados nulos.\n",
    "dados[dados['idade'].isna()] "
   ]
  },
  {
   "cell_type": "code",
   "execution_count": 18,
   "id": "004bb06e",
   "metadata": {
    "execution": {
     "iopub.execute_input": "2025-10-21T01:08:32.306895Z",
     "iopub.status.busy": "2025-10-21T01:08:32.306510Z",
     "iopub.status.idle": "2025-10-21T01:08:32.317390Z",
     "shell.execute_reply": "2025-10-21T01:08:32.316333Z"
    },
    "papermill": {
     "duration": 0.020353,
     "end_time": "2025-10-21T01:08:32.319158",
     "exception": false,
     "start_time": "2025-10-21T01:08:32.298805",
     "status": "completed"
    },
    "tags": []
   },
   "outputs": [
    {
     "data": {
      "text/html": [
       "<div>\n",
       "<style scoped>\n",
       "    .dataframe tbody tr th:only-of-type {\n",
       "        vertical-align: middle;\n",
       "    }\n",
       "\n",
       "    .dataframe tbody tr th {\n",
       "        vertical-align: top;\n",
       "    }\n",
       "\n",
       "    .dataframe thead th {\n",
       "        text-align: right;\n",
       "    }\n",
       "</style>\n",
       "<table border=\"1\" class=\"dataframe\">\n",
       "  <thead>\n",
       "    <tr style=\"text-align: right;\">\n",
       "      <th></th>\n",
       "      <th>nome</th>\n",
       "      <th>idade</th>\n",
       "      <th>cidade</th>\n",
       "      <th>salario</th>\n",
       "    </tr>\n",
       "  </thead>\n",
       "  <tbody>\n",
       "    <tr>\n",
       "      <th>0</th>\n",
       "      <td>Teresa</td>\n",
       "      <td>3</td>\n",
       "      <td>Recife</td>\n",
       "      <td>3200</td>\n",
       "    </tr>\n",
       "    <tr>\n",
       "      <th>1</th>\n",
       "      <td>Soares</td>\n",
       "      <td>35</td>\n",
       "      <td>Paulista</td>\n",
       "      <td>4500</td>\n",
       "    </tr>\n",
       "    <tr>\n",
       "      <th>2</th>\n",
       "      <td>Jose</td>\n",
       "      <td>31</td>\n",
       "      <td>Olinda</td>\n",
       "      <td>5000</td>\n",
       "    </tr>\n",
       "    <tr>\n",
       "      <th>3</th>\n",
       "      <td>Carlos</td>\n",
       "      <td>48</td>\n",
       "      <td>Caruaru</td>\n",
       "      <td>3700</td>\n",
       "    </tr>\n",
       "    <tr>\n",
       "      <th>4</th>\n",
       "      <td>Maria</td>\n",
       "      <td>40</td>\n",
       "      <td>Petrolina</td>\n",
       "      <td>6000</td>\n",
       "    </tr>\n",
       "    <tr>\n",
       "      <th>5</th>\n",
       "      <td>Teresa</td>\n",
       "      <td>56</td>\n",
       "      <td>Timbauba</td>\n",
       "      <td>7000</td>\n",
       "    </tr>\n",
       "  </tbody>\n",
       "</table>\n",
       "</div>"
      ],
      "text/plain": [
       "     nome  idade     cidade  salario\n",
       "0  Teresa      3     Recife     3200\n",
       "1  Soares     35   Paulista     4500\n",
       "2    Jose     31     Olinda     5000\n",
       "3  Carlos     48    Caruaru     3700\n",
       "4   Maria     40  Petrolina     6000\n",
       "5  Teresa     56   Timbauba     7000"
      ]
     },
     "execution_count": 18,
     "metadata": {},
     "output_type": "execute_result"
    }
   ],
   "source": [
    "# Seleciona linhas sem valores nulos.\n",
    "dados[dados['idade'].notna()]"
   ]
  },
  {
   "cell_type": "code",
   "execution_count": 19,
   "id": "23fee456",
   "metadata": {
    "execution": {
     "iopub.execute_input": "2025-10-21T01:08:32.333927Z",
     "iopub.status.busy": "2025-10-21T01:08:32.333496Z",
     "iopub.status.idle": "2025-10-21T01:08:32.343625Z",
     "shell.execute_reply": "2025-10-21T01:08:32.342712Z"
    },
    "papermill": {
     "duration": 0.019113,
     "end_time": "2025-10-21T01:08:32.345132",
     "exception": false,
     "start_time": "2025-10-21T01:08:32.326019",
     "status": "completed"
    },
    "tags": []
   },
   "outputs": [
    {
     "data": {
      "text/html": [
       "<div>\n",
       "<style scoped>\n",
       "    .dataframe tbody tr th:only-of-type {\n",
       "        vertical-align: middle;\n",
       "    }\n",
       "\n",
       "    .dataframe tbody tr th {\n",
       "        vertical-align: top;\n",
       "    }\n",
       "\n",
       "    .dataframe thead th {\n",
       "        text-align: right;\n",
       "    }\n",
       "</style>\n",
       "<table border=\"1\" class=\"dataframe\">\n",
       "  <thead>\n",
       "    <tr style=\"text-align: right;\">\n",
       "      <th></th>\n",
       "      <th>nome</th>\n",
       "      <th>idade</th>\n",
       "      <th>cidade</th>\n",
       "      <th>salario</th>\n",
       "    </tr>\n",
       "  </thead>\n",
       "  <tbody>\n",
       "    <tr>\n",
       "      <th>0</th>\n",
       "      <td>Teresa</td>\n",
       "      <td>3</td>\n",
       "      <td>Recife</td>\n",
       "      <td>3200</td>\n",
       "    </tr>\n",
       "    <tr>\n",
       "      <th>5</th>\n",
       "      <td>Teresa</td>\n",
       "      <td>56</td>\n",
       "      <td>Timbauba</td>\n",
       "      <td>7000</td>\n",
       "    </tr>\n",
       "  </tbody>\n",
       "</table>\n",
       "</div>"
      ],
      "text/plain": [
       "     nome  idade    cidade  salario\n",
       "0  Teresa      3    Recife     3200\n",
       "5  Teresa     56  Timbauba     7000"
      ]
     },
     "execution_count": 19,
     "metadata": {},
     "output_type": "execute_result"
    }
   ],
   "source": [
    "# Seleciona valores duplicados.\n",
    "dados[dados.duplicated('nome', keep=False)]"
   ]
  },
  {
   "cell_type": "markdown",
   "id": "ea6d4943",
   "metadata": {
    "papermill": {
     "duration": 0.006584,
     "end_time": "2025-10-21T01:08:32.358843",
     "exception": false,
     "start_time": "2025-10-21T01:08:32.352259",
     "status": "completed"
    },
    "tags": []
   },
   "source": [
    "<h2>📌 Seleção e ordenação de dados</h2>"
   ]
  },
  {
   "cell_type": "code",
   "execution_count": 20,
   "id": "71473329",
   "metadata": {
    "execution": {
     "iopub.execute_input": "2025-10-21T01:08:32.374926Z",
     "iopub.status.busy": "2025-10-21T01:08:32.374567Z",
     "iopub.status.idle": "2025-10-21T01:08:32.385109Z",
     "shell.execute_reply": "2025-10-21T01:08:32.383969Z"
    },
    "papermill": {
     "duration": 0.020965,
     "end_time": "2025-10-21T01:08:32.387039",
     "exception": false,
     "start_time": "2025-10-21T01:08:32.366074",
     "status": "completed"
    },
    "tags": []
   },
   "outputs": [
    {
     "data": {
      "text/html": [
       "<div>\n",
       "<style scoped>\n",
       "    .dataframe tbody tr th:only-of-type {\n",
       "        vertical-align: middle;\n",
       "    }\n",
       "\n",
       "    .dataframe tbody tr th {\n",
       "        vertical-align: top;\n",
       "    }\n",
       "\n",
       "    .dataframe thead th {\n",
       "        text-align: right;\n",
       "    }\n",
       "</style>\n",
       "<table border=\"1\" class=\"dataframe\">\n",
       "  <thead>\n",
       "    <tr style=\"text-align: right;\">\n",
       "      <th></th>\n",
       "      <th>nome</th>\n",
       "      <th>idade</th>\n",
       "      <th>cidade</th>\n",
       "      <th>salario</th>\n",
       "    </tr>\n",
       "  </thead>\n",
       "  <tbody>\n",
       "    <tr>\n",
       "      <th>0</th>\n",
       "      <td>Teresa</td>\n",
       "      <td>3</td>\n",
       "      <td>Recife</td>\n",
       "      <td>3200</td>\n",
       "    </tr>\n",
       "    <tr>\n",
       "      <th>2</th>\n",
       "      <td>Jose</td>\n",
       "      <td>31</td>\n",
       "      <td>Olinda</td>\n",
       "      <td>5000</td>\n",
       "    </tr>\n",
       "    <tr>\n",
       "      <th>1</th>\n",
       "      <td>Soares</td>\n",
       "      <td>35</td>\n",
       "      <td>Paulista</td>\n",
       "      <td>4500</td>\n",
       "    </tr>\n",
       "    <tr>\n",
       "      <th>4</th>\n",
       "      <td>Maria</td>\n",
       "      <td>40</td>\n",
       "      <td>Petrolina</td>\n",
       "      <td>6000</td>\n",
       "    </tr>\n",
       "    <tr>\n",
       "      <th>3</th>\n",
       "      <td>Carlos</td>\n",
       "      <td>48</td>\n",
       "      <td>Caruaru</td>\n",
       "      <td>3700</td>\n",
       "    </tr>\n",
       "    <tr>\n",
       "      <th>5</th>\n",
       "      <td>Teresa</td>\n",
       "      <td>56</td>\n",
       "      <td>Timbauba</td>\n",
       "      <td>7000</td>\n",
       "    </tr>\n",
       "  </tbody>\n",
       "</table>\n",
       "</div>"
      ],
      "text/plain": [
       "     nome  idade     cidade  salario\n",
       "0  Teresa      3     Recife     3200\n",
       "2    Jose     31     Olinda     5000\n",
       "1  Soares     35   Paulista     4500\n",
       "4   Maria     40  Petrolina     6000\n",
       "3  Carlos     48    Caruaru     3700\n",
       "5  Teresa     56   Timbauba     7000"
      ]
     },
     "execution_count": 20,
     "metadata": {},
     "output_type": "execute_result"
    }
   ],
   "source": [
    "# Seleciona e ordena por idade.\n",
    "dados.sort_values('idade', ascending=True)"
   ]
  },
  {
   "cell_type": "markdown",
   "id": "fd7ef37d",
   "metadata": {
    "papermill": {
     "duration": 0.007358,
     "end_time": "2025-10-21T01:08:32.401633",
     "exception": false,
     "start_time": "2025-10-21T01:08:32.394275",
     "status": "completed"
    },
    "tags": []
   },
   "source": [
    "<h2>📌 Seleção com amostragem e limites</h2>"
   ]
  },
  {
   "cell_type": "code",
   "execution_count": 21,
   "id": "c56fae97",
   "metadata": {
    "execution": {
     "iopub.execute_input": "2025-10-21T01:08:32.416859Z",
     "iopub.status.busy": "2025-10-21T01:08:32.416528Z",
     "iopub.status.idle": "2025-10-21T01:08:32.426827Z",
     "shell.execute_reply": "2025-10-21T01:08:32.425809Z"
    },
    "papermill": {
     "duration": 0.019999,
     "end_time": "2025-10-21T01:08:32.428661",
     "exception": false,
     "start_time": "2025-10-21T01:08:32.408662",
     "status": "completed"
    },
    "tags": []
   },
   "outputs": [
    {
     "data": {
      "text/html": [
       "<div>\n",
       "<style scoped>\n",
       "    .dataframe tbody tr th:only-of-type {\n",
       "        vertical-align: middle;\n",
       "    }\n",
       "\n",
       "    .dataframe tbody tr th {\n",
       "        vertical-align: top;\n",
       "    }\n",
       "\n",
       "    .dataframe thead th {\n",
       "        text-align: right;\n",
       "    }\n",
       "</style>\n",
       "<table border=\"1\" class=\"dataframe\">\n",
       "  <thead>\n",
       "    <tr style=\"text-align: right;\">\n",
       "      <th></th>\n",
       "      <th>nome</th>\n",
       "      <th>idade</th>\n",
       "      <th>cidade</th>\n",
       "      <th>salario</th>\n",
       "    </tr>\n",
       "  </thead>\n",
       "  <tbody>\n",
       "    <tr>\n",
       "      <th>0</th>\n",
       "      <td>Teresa</td>\n",
       "      <td>3</td>\n",
       "      <td>Recife</td>\n",
       "      <td>3200</td>\n",
       "    </tr>\n",
       "    <tr>\n",
       "      <th>1</th>\n",
       "      <td>Soares</td>\n",
       "      <td>35</td>\n",
       "      <td>Paulista</td>\n",
       "      <td>4500</td>\n",
       "    </tr>\n",
       "    <tr>\n",
       "      <th>2</th>\n",
       "      <td>Jose</td>\n",
       "      <td>31</td>\n",
       "      <td>Olinda</td>\n",
       "      <td>5000</td>\n",
       "    </tr>\n",
       "  </tbody>\n",
       "</table>\n",
       "</div>"
      ],
      "text/plain": [
       "     nome  idade    cidade  salario\n",
       "0  Teresa      3    Recife     3200\n",
       "1  Soares     35  Paulista     4500\n",
       "2    Jose     31    Olinda     5000"
      ]
     },
     "execution_count": 21,
     "metadata": {},
     "output_type": "execute_result"
    }
   ],
   "source": [
    "# Seleciona as 3 primeiras linhas\n",
    "dados.head(3)"
   ]
  },
  {
   "cell_type": "code",
   "execution_count": 22,
   "id": "a7f4da55",
   "metadata": {
    "execution": {
     "iopub.execute_input": "2025-10-21T01:08:32.445048Z",
     "iopub.status.busy": "2025-10-21T01:08:32.444686Z",
     "iopub.status.idle": "2025-10-21T01:08:32.454541Z",
     "shell.execute_reply": "2025-10-21T01:08:32.453564Z"
    },
    "papermill": {
     "duration": 0.019712,
     "end_time": "2025-10-21T01:08:32.456309",
     "exception": false,
     "start_time": "2025-10-21T01:08:32.436597",
     "status": "completed"
    },
    "tags": []
   },
   "outputs": [
    {
     "data": {
      "text/html": [
       "<div>\n",
       "<style scoped>\n",
       "    .dataframe tbody tr th:only-of-type {\n",
       "        vertical-align: middle;\n",
       "    }\n",
       "\n",
       "    .dataframe tbody tr th {\n",
       "        vertical-align: top;\n",
       "    }\n",
       "\n",
       "    .dataframe thead th {\n",
       "        text-align: right;\n",
       "    }\n",
       "</style>\n",
       "<table border=\"1\" class=\"dataframe\">\n",
       "  <thead>\n",
       "    <tr style=\"text-align: right;\">\n",
       "      <th></th>\n",
       "      <th>nome</th>\n",
       "      <th>idade</th>\n",
       "      <th>cidade</th>\n",
       "      <th>salario</th>\n",
       "    </tr>\n",
       "  </thead>\n",
       "  <tbody>\n",
       "    <tr>\n",
       "      <th>4</th>\n",
       "      <td>Maria</td>\n",
       "      <td>40</td>\n",
       "      <td>Petrolina</td>\n",
       "      <td>6000</td>\n",
       "    </tr>\n",
       "    <tr>\n",
       "      <th>5</th>\n",
       "      <td>Teresa</td>\n",
       "      <td>56</td>\n",
       "      <td>Timbauba</td>\n",
       "      <td>7000</td>\n",
       "    </tr>\n",
       "  </tbody>\n",
       "</table>\n",
       "</div>"
      ],
      "text/plain": [
       "     nome  idade     cidade  salario\n",
       "4   Maria     40  Petrolina     6000\n",
       "5  Teresa     56   Timbauba     7000"
      ]
     },
     "execution_count": 22,
     "metadata": {},
     "output_type": "execute_result"
    }
   ],
   "source": [
    "# Seleciona as 2 últimas linhas.\n",
    "dados.tail(2)  "
   ]
  },
  {
   "cell_type": "code",
   "execution_count": 23,
   "id": "8367ef0f",
   "metadata": {
    "execution": {
     "iopub.execute_input": "2025-10-21T01:08:32.472335Z",
     "iopub.status.busy": "2025-10-21T01:08:32.472063Z",
     "iopub.status.idle": "2025-10-21T01:08:32.481641Z",
     "shell.execute_reply": "2025-10-21T01:08:32.480732Z"
    },
    "papermill": {
     "duration": 0.019614,
     "end_time": "2025-10-21T01:08:32.483434",
     "exception": false,
     "start_time": "2025-10-21T01:08:32.463820",
     "status": "completed"
    },
    "tags": []
   },
   "outputs": [
    {
     "data": {
      "text/html": [
       "<div>\n",
       "<style scoped>\n",
       "    .dataframe tbody tr th:only-of-type {\n",
       "        vertical-align: middle;\n",
       "    }\n",
       "\n",
       "    .dataframe tbody tr th {\n",
       "        vertical-align: top;\n",
       "    }\n",
       "\n",
       "    .dataframe thead th {\n",
       "        text-align: right;\n",
       "    }\n",
       "</style>\n",
       "<table border=\"1\" class=\"dataframe\">\n",
       "  <thead>\n",
       "    <tr style=\"text-align: right;\">\n",
       "      <th></th>\n",
       "      <th>nome</th>\n",
       "      <th>idade</th>\n",
       "      <th>cidade</th>\n",
       "      <th>salario</th>\n",
       "    </tr>\n",
       "  </thead>\n",
       "  <tbody>\n",
       "    <tr>\n",
       "      <th>0</th>\n",
       "      <td>Teresa</td>\n",
       "      <td>3</td>\n",
       "      <td>Recife</td>\n",
       "      <td>3200</td>\n",
       "    </tr>\n",
       "    <tr>\n",
       "      <th>5</th>\n",
       "      <td>Teresa</td>\n",
       "      <td>56</td>\n",
       "      <td>Timbauba</td>\n",
       "      <td>7000</td>\n",
       "    </tr>\n",
       "  </tbody>\n",
       "</table>\n",
       "</div>"
      ],
      "text/plain": [
       "     nome  idade    cidade  salario\n",
       "0  Teresa      3    Recife     3200\n",
       "5  Teresa     56  Timbauba     7000"
      ]
     },
     "execution_count": 23,
     "metadata": {},
     "output_type": "execute_result"
    }
   ],
   "source": [
    "# Seleciona 2 linhas aleatórias.\n",
    "dados.sample(2)  "
   ]
  }
 ],
 "metadata": {
  "kaggle": {
   "accelerator": "none",
   "dataSources": [],
   "dockerImageVersionId": 31153,
   "isGpuEnabled": false,
   "isInternetEnabled": true,
   "language": "python",
   "sourceType": "notebook"
  },
  "kernelspec": {
   "display_name": "Python 3",
   "language": "python",
   "name": "python3"
  },
  "language_info": {
   "codemirror_mode": {
    "name": "ipython",
    "version": 3
   },
   "file_extension": ".py",
   "mimetype": "text/x-python",
   "name": "python",
   "nbconvert_exporter": "python",
   "pygments_lexer": "ipython3",
   "version": "3.11.13"
  },
  "papermill": {
   "default_parameters": {},
   "duration": 8.901426,
   "end_time": "2025-10-21T01:08:33.011800",
   "environment_variables": {},
   "exception": null,
   "input_path": "__notebook__.ipynb",
   "output_path": "__notebook__.ipynb",
   "parameters": {},
   "start_time": "2025-10-21T01:08:24.110374",
   "version": "2.6.0"
  }
 },
 "nbformat": 4,
 "nbformat_minor": 5
}
