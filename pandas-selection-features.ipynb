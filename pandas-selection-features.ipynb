{
 "cells": [
  {
   "cell_type": "markdown",
   "id": "cd1c8d90",
   "metadata": {
    "papermill": {
     "duration": 0.006915,
     "end_time": "2025-10-21T01:33:48.515997",
     "exception": false,
     "start_time": "2025-10-21T01:33:48.509082",
     "status": "completed"
    },
    "tags": []
   },
   "source": [
    "<h1>📌 Explorando a Biblioteca Pandas em Python: seleção de dados</h1>\n",
    "\n",
    "<h3>📌 Um Guia Prático para Iniciantes</h3>\n",
    "\n",
    "<p style='font-size:16px;'>A biblioteca Pandas é uma das ferramentas mais poderosas e populares da linguagem Python para análise e manipulação de dados. Criada por Wes McKinney, ela se tornou essencial para cientistas de dados, analistas e desenvolvedores que trabalham com grandes volumes de informações.</p>\n",
    "\n",
    "<p>O Pandas (derivado de Panel Data) é uma biblioteca de código aberto voltada para trabalhar com dados estruturados, ou seja, dados organizados em tabelas.</p>\n",
    "\n",
    "<h3>📌 Seleção de dados</h3>\n",
    "\n",
    "<p style='font-size:16px;'>A seleção de dados é uma das tarefas mais importantes no uso do Pandas, pois permite acessar informações de forma flexível. No Pandas, a seleção é feita principalmente por indexação (usando colchetes [] - operador de indexação), usando os métodos .loc (para rótulos) e .iloc (para índices numéricos), entre outras formas. Você pode selecionar colunas específicas, múltiplas colunas, linhas baseadas em condições ou por posição, e até subconjuntos que combinam linhas e colunas.</p>\n",
    "\n",
    "📌Autor: Carlos da Costa<br>\n",
    "📌Recife, PE - Brasil<br>\n",
    "📌Telefone: +55 81 99712 9140<br>\n",
    "📌Telegram: @jcarlossc<br>\n",
    "📌Blogger linguagem R: https://informaticus77-r.blogspot.com/<br>\n",
    "📌Blogger linguagem Python: https://informaticus77-python.blogspot.com/<br>\n",
    "📌Email: jcarlossc1977@gmail.com<br>\n",
    "📌Portfólio em construção: https://portfolio-carlos-costa.netlify.app/<br>\n",
    "📌LinkedIn: https://www.linkedin.com/in/carlos-da-costa-669252149/<br>\n",
    "📌GitHub: https://github.com/jcarlossc<br>\n",
    "📌Kaggle: https://www.kaggle.com/jcarlossc/<br>\n",
    "📌Twitter/X: https://x.com/jcarlossc1977"
   ]
  },
  {
   "cell_type": "code",
   "execution_count": 1,
   "id": "92558de2",
   "metadata": {
    "execution": {
     "iopub.execute_input": "2025-10-21T01:33:48.528645Z",
     "iopub.status.busy": "2025-10-21T01:33:48.528273Z",
     "iopub.status.idle": "2025-10-21T01:33:50.925446Z",
     "shell.execute_reply": "2025-10-21T01:33:50.924231Z"
    },
    "papermill": {
     "duration": 2.406,
     "end_time": "2025-10-21T01:33:50.927643",
     "exception": false,
     "start_time": "2025-10-21T01:33:48.521643",
     "status": "completed"
    },
    "tags": []
   },
   "outputs": [],
   "source": [
    "# Importando a biblioteca Pandas\n",
    "import pandas as pd"
   ]
  },
  {
   "cell_type": "code",
   "execution_count": 2,
   "id": "28930916",
   "metadata": {
    "execution": {
     "iopub.execute_input": "2025-10-21T01:33:50.942002Z",
     "iopub.status.busy": "2025-10-21T01:33:50.941476Z",
     "iopub.status.idle": "2025-10-21T01:33:50.953001Z",
     "shell.execute_reply": "2025-10-21T01:33:50.951817Z"
    },
    "papermill": {
     "duration": 0.020323,
     "end_time": "2025-10-21T01:33:50.954822",
     "exception": false,
     "start_time": "2025-10-21T01:33:50.934499",
     "status": "completed"
    },
    "tags": []
   },
   "outputs": [],
   "source": [
    "# Criando um DataFrame de exemplo\n",
    "dados = pd.DataFrame(\n",
    "    {\n",
    "    'nome': ['Teresa', 'Soares', 'Jose', 'Carlos', 'Maria', 'Teresa'],\n",
    "    'idade': [3, 35, 31, 48, 40, 56],\n",
    "    'cidade': ['Recife', 'Paulista', 'Olinda', 'Caruaru', 'Petrolina', 'Timbauba'],\n",
    "    'salario': [3200, 4500, 5000, 3700, 6000, 7000]\n",
    "    }\n",
    ")"
   ]
  },
  {
   "cell_type": "code",
   "execution_count": 3,
   "id": "5ecdcfe1",
   "metadata": {
    "execution": {
     "iopub.execute_input": "2025-10-21T01:33:50.968524Z",
     "iopub.status.busy": "2025-10-21T01:33:50.967058Z",
     "iopub.status.idle": "2025-10-21T01:33:51.008359Z",
     "shell.execute_reply": "2025-10-21T01:33:51.006623Z"
    },
    "papermill": {
     "duration": 0.05026,
     "end_time": "2025-10-21T01:33:51.010856",
     "exception": false,
     "start_time": "2025-10-21T01:33:50.960596",
     "status": "completed"
    },
    "tags": []
   },
   "outputs": [
    {
     "name": "stdout",
     "output_type": "stream",
     "text": [
      "<class 'pandas.core.frame.DataFrame'>\n",
      "RangeIndex: 6 entries, 0 to 5\n",
      "Data columns (total 4 columns):\n",
      " #   Column   Non-Null Count  Dtype \n",
      "---  ------   --------------  ----- \n",
      " 0   nome     6 non-null      object\n",
      " 1   idade    6 non-null      int64 \n",
      " 2   cidade   6 non-null      object\n",
      " 3   salario  6 non-null      int64 \n",
      "dtypes: int64(2), object(2)\n",
      "memory usage: 324.0+ bytes\n"
     ]
    }
   ],
   "source": [
    "# Informações sobre quantidade de observações(6), número de colunas(4),\n",
    "# uso de memória e tipos de dados.\n",
    "dados.info()"
   ]
  },
  {
   "cell_type": "markdown",
   "id": "4ed8c13e",
   "metadata": {
    "papermill": {
     "duration": 0.007048,
     "end_time": "2025-10-21T01:33:51.026462",
     "exception": false,
     "start_time": "2025-10-21T01:33:51.019414",
     "status": "completed"
    },
    "tags": []
   },
   "source": [
    "<h2>📌 Seleção de colunas</h2>"
   ]
  },
  {
   "cell_type": "code",
   "execution_count": 4,
   "id": "2d58e63e",
   "metadata": {
    "execution": {
     "iopub.execute_input": "2025-10-21T01:33:51.040676Z",
     "iopub.status.busy": "2025-10-21T01:33:51.040343Z",
     "iopub.status.idle": "2025-10-21T01:33:51.049282Z",
     "shell.execute_reply": "2025-10-21T01:33:51.047970Z"
    },
    "papermill": {
     "duration": 0.018866,
     "end_time": "2025-10-21T01:33:51.051288",
     "exception": false,
     "start_time": "2025-10-21T01:33:51.032422",
     "status": "completed"
    },
    "tags": []
   },
   "outputs": [
    {
     "data": {
      "text/plain": [
       "0    Teresa\n",
       "1    Soares\n",
       "2      Jose\n",
       "3    Carlos\n",
       "4     Maria\n",
       "5    Teresa\n",
       "Name: nome, dtype: object"
      ]
     },
     "execution_count": 4,
     "metadata": {},
     "output_type": "execute_result"
    }
   ],
   "source": [
    "# Selecionar uma única coluna.\n",
    "dados['nome']"
   ]
  },
  {
   "cell_type": "code",
   "execution_count": 5,
   "id": "33949db6",
   "metadata": {
    "execution": {
     "iopub.execute_input": "2025-10-21T01:33:51.064427Z",
     "iopub.status.busy": "2025-10-21T01:33:51.064116Z",
     "iopub.status.idle": "2025-10-21T01:33:51.091543Z",
     "shell.execute_reply": "2025-10-21T01:33:51.090284Z"
    },
    "papermill": {
     "duration": 0.036504,
     "end_time": "2025-10-21T01:33:51.093894",
     "exception": false,
     "start_time": "2025-10-21T01:33:51.057390",
     "status": "completed"
    },
    "tags": []
   },
   "outputs": [
    {
     "data": {
      "text/html": [
       "<div>\n",
       "<style scoped>\n",
       "    .dataframe tbody tr th:only-of-type {\n",
       "        vertical-align: middle;\n",
       "    }\n",
       "\n",
       "    .dataframe tbody tr th {\n",
       "        vertical-align: top;\n",
       "    }\n",
       "\n",
       "    .dataframe thead th {\n",
       "        text-align: right;\n",
       "    }\n",
       "</style>\n",
       "<table border=\"1\" class=\"dataframe\">\n",
       "  <thead>\n",
       "    <tr style=\"text-align: right;\">\n",
       "      <th></th>\n",
       "      <th>nome</th>\n",
       "      <th>idade</th>\n",
       "    </tr>\n",
       "  </thead>\n",
       "  <tbody>\n",
       "    <tr>\n",
       "      <th>0</th>\n",
       "      <td>Teresa</td>\n",
       "      <td>3</td>\n",
       "    </tr>\n",
       "    <tr>\n",
       "      <th>1</th>\n",
       "      <td>Soares</td>\n",
       "      <td>35</td>\n",
       "    </tr>\n",
       "    <tr>\n",
       "      <th>2</th>\n",
       "      <td>Jose</td>\n",
       "      <td>31</td>\n",
       "    </tr>\n",
       "    <tr>\n",
       "      <th>3</th>\n",
       "      <td>Carlos</td>\n",
       "      <td>48</td>\n",
       "    </tr>\n",
       "    <tr>\n",
       "      <th>4</th>\n",
       "      <td>Maria</td>\n",
       "      <td>40</td>\n",
       "    </tr>\n",
       "    <tr>\n",
       "      <th>5</th>\n",
       "      <td>Teresa</td>\n",
       "      <td>56</td>\n",
       "    </tr>\n",
       "  </tbody>\n",
       "</table>\n",
       "</div>"
      ],
      "text/plain": [
       "     nome  idade\n",
       "0  Teresa      3\n",
       "1  Soares     35\n",
       "2    Jose     31\n",
       "3  Carlos     48\n",
       "4   Maria     40\n",
       "5  Teresa     56"
      ]
     },
     "execution_count": 5,
     "metadata": {},
     "output_type": "execute_result"
    }
   ],
   "source": [
    "# Selecionar multiplas colunas.\n",
    "dados[['nome', 'idade']]"
   ]
  },
  {
   "cell_type": "markdown",
   "id": "7d4137d6",
   "metadata": {
    "papermill": {
     "duration": 0.007199,
     "end_time": "2025-10-21T01:33:51.107727",
     "exception": false,
     "start_time": "2025-10-21T01:33:51.100528",
     "status": "completed"
    },
    "tags": []
   },
   "source": [
    "<h2>📌 Seleção por índices e posições com iloc.</h2>"
   ]
  },
  {
   "cell_type": "code",
   "execution_count": 6,
   "id": "98f88584",
   "metadata": {
    "execution": {
     "iopub.execute_input": "2025-10-21T01:33:51.122101Z",
     "iopub.status.busy": "2025-10-21T01:33:51.121751Z",
     "iopub.status.idle": "2025-10-21T01:33:51.130248Z",
     "shell.execute_reply": "2025-10-21T01:33:51.128788Z"
    },
    "papermill": {
     "duration": 0.018016,
     "end_time": "2025-10-21T01:33:51.132473",
     "exception": false,
     "start_time": "2025-10-21T01:33:51.114457",
     "status": "completed"
    },
    "tags": []
   },
   "outputs": [
    {
     "data": {
      "text/plain": [
       "nome       Teresa\n",
       "idade           3\n",
       "cidade     Recife\n",
       "salario      3200\n",
       "Name: 0, dtype: object"
      ]
     },
     "execution_count": 6,
     "metadata": {},
     "output_type": "execute_result"
    }
   ],
   "source": [
    "# Seleciona a primeira linha.\n",
    "dados.iloc[0]        "
   ]
  },
  {
   "cell_type": "code",
   "execution_count": 7,
   "id": "724636fa",
   "metadata": {
    "execution": {
     "iopub.execute_input": "2025-10-21T01:33:51.145480Z",
     "iopub.status.busy": "2025-10-21T01:33:51.145188Z",
     "iopub.status.idle": "2025-10-21T01:33:51.156338Z",
     "shell.execute_reply": "2025-10-21T01:33:51.155295Z"
    },
    "papermill": {
     "duration": 0.019773,
     "end_time": "2025-10-21T01:33:51.158265",
     "exception": false,
     "start_time": "2025-10-21T01:33:51.138492",
     "status": "completed"
    },
    "tags": []
   },
   "outputs": [
    {
     "data": {
      "text/html": [
       "<div>\n",
       "<style scoped>\n",
       "    .dataframe tbody tr th:only-of-type {\n",
       "        vertical-align: middle;\n",
       "    }\n",
       "\n",
       "    .dataframe tbody tr th {\n",
       "        vertical-align: top;\n",
       "    }\n",
       "\n",
       "    .dataframe thead th {\n",
       "        text-align: right;\n",
       "    }\n",
       "</style>\n",
       "<table border=\"1\" class=\"dataframe\">\n",
       "  <thead>\n",
       "    <tr style=\"text-align: right;\">\n",
       "      <th></th>\n",
       "      <th>nome</th>\n",
       "      <th>idade</th>\n",
       "      <th>cidade</th>\n",
       "      <th>salario</th>\n",
       "    </tr>\n",
       "  </thead>\n",
       "  <tbody>\n",
       "    <tr>\n",
       "      <th>0</th>\n",
       "      <td>Teresa</td>\n",
       "      <td>3</td>\n",
       "      <td>Recife</td>\n",
       "      <td>3200</td>\n",
       "    </tr>\n",
       "    <tr>\n",
       "      <th>1</th>\n",
       "      <td>Soares</td>\n",
       "      <td>35</td>\n",
       "      <td>Paulista</td>\n",
       "      <td>4500</td>\n",
       "    </tr>\n",
       "    <tr>\n",
       "      <th>2</th>\n",
       "      <td>Jose</td>\n",
       "      <td>31</td>\n",
       "      <td>Olinda</td>\n",
       "      <td>5000</td>\n",
       "    </tr>\n",
       "  </tbody>\n",
       "</table>\n",
       "</div>"
      ],
      "text/plain": [
       "     nome  idade    cidade  salario\n",
       "0  Teresa      3    Recife     3200\n",
       "1  Soares     35  Paulista     4500\n",
       "2    Jose     31    Olinda     5000"
      ]
     },
     "execution_count": 7,
     "metadata": {},
     "output_type": "execute_result"
    }
   ],
   "source": [
    "# Da 1ª à 3ª linha (exclusive)\n",
    "dados.iloc[0:3]      "
   ]
  },
  {
   "cell_type": "code",
   "execution_count": 8,
   "id": "d958da5d",
   "metadata": {
    "execution": {
     "iopub.execute_input": "2025-10-21T01:33:51.171266Z",
     "iopub.status.busy": "2025-10-21T01:33:51.170914Z",
     "iopub.status.idle": "2025-10-21T01:33:51.178785Z",
     "shell.execute_reply": "2025-10-21T01:33:51.177474Z"
    },
    "papermill": {
     "duration": 0.016492,
     "end_time": "2025-10-21T01:33:51.180730",
     "exception": false,
     "start_time": "2025-10-21T01:33:51.164238",
     "status": "completed"
    },
    "tags": []
   },
   "outputs": [
    {
     "data": {
      "text/plain": [
       "0    Teresa\n",
       "1    Soares\n",
       "2      Jose\n",
       "3    Carlos\n",
       "4     Maria\n",
       "5    Teresa\n",
       "Name: nome, dtype: object"
      ]
     },
     "execution_count": 8,
     "metadata": {},
     "output_type": "execute_result"
    }
   ],
   "source": [
    "# Seleciona primeira coluna.\n",
    "dados.iloc[:, 0]     "
   ]
  },
  {
   "cell_type": "code",
   "execution_count": 9,
   "id": "f68f3594",
   "metadata": {
    "execution": {
     "iopub.execute_input": "2025-10-21T01:33:51.194629Z",
     "iopub.status.busy": "2025-10-21T01:33:51.194255Z",
     "iopub.status.idle": "2025-10-21T01:33:51.204343Z",
     "shell.execute_reply": "2025-10-21T01:33:51.203279Z"
    },
    "papermill": {
     "duration": 0.019539,
     "end_time": "2025-10-21T01:33:51.206278",
     "exception": false,
     "start_time": "2025-10-21T01:33:51.186739",
     "status": "completed"
    },
    "tags": []
   },
   "outputs": [
    {
     "data": {
      "text/html": [
       "<div>\n",
       "<style scoped>\n",
       "    .dataframe tbody tr th:only-of-type {\n",
       "        vertical-align: middle;\n",
       "    }\n",
       "\n",
       "    .dataframe tbody tr th {\n",
       "        vertical-align: top;\n",
       "    }\n",
       "\n",
       "    .dataframe thead th {\n",
       "        text-align: right;\n",
       "    }\n",
       "</style>\n",
       "<table border=\"1\" class=\"dataframe\">\n",
       "  <thead>\n",
       "    <tr style=\"text-align: right;\">\n",
       "      <th></th>\n",
       "      <th>nome</th>\n",
       "      <th>idade</th>\n",
       "    </tr>\n",
       "  </thead>\n",
       "  <tbody>\n",
       "    <tr>\n",
       "      <th>0</th>\n",
       "      <td>Teresa</td>\n",
       "      <td>3</td>\n",
       "    </tr>\n",
       "    <tr>\n",
       "      <th>1</th>\n",
       "      <td>Soares</td>\n",
       "      <td>35</td>\n",
       "    </tr>\n",
       "    <tr>\n",
       "      <th>2</th>\n",
       "      <td>Jose</td>\n",
       "      <td>31</td>\n",
       "    </tr>\n",
       "    <tr>\n",
       "      <th>3</th>\n",
       "      <td>Carlos</td>\n",
       "      <td>48</td>\n",
       "    </tr>\n",
       "    <tr>\n",
       "      <th>4</th>\n",
       "      <td>Maria</td>\n",
       "      <td>40</td>\n",
       "    </tr>\n",
       "    <tr>\n",
       "      <th>5</th>\n",
       "      <td>Teresa</td>\n",
       "      <td>56</td>\n",
       "    </tr>\n",
       "  </tbody>\n",
       "</table>\n",
       "</div>"
      ],
      "text/plain": [
       "     nome  idade\n",
       "0  Teresa      3\n",
       "1  Soares     35\n",
       "2    Jose     31\n",
       "3  Carlos     48\n",
       "4   Maria     40\n",
       "5  Teresa     56"
      ]
     },
     "execution_count": 9,
     "metadata": {},
     "output_type": "execute_result"
    }
   ],
   "source": [
    "# Duas primeiras colunas\n",
    "dados.iloc[:, 0:2]   "
   ]
  },
  {
   "cell_type": "code",
   "execution_count": 10,
   "id": "b68d78a3",
   "metadata": {
    "execution": {
     "iopub.execute_input": "2025-10-21T01:33:51.219784Z",
     "iopub.status.busy": "2025-10-21T01:33:51.219483Z",
     "iopub.status.idle": "2025-10-21T01:33:51.226432Z",
     "shell.execute_reply": "2025-10-21T01:33:51.225179Z"
    },
    "papermill": {
     "duration": 0.015917,
     "end_time": "2025-10-21T01:33:51.228327",
     "exception": false,
     "start_time": "2025-10-21T01:33:51.212410",
     "status": "completed"
    },
    "tags": []
   },
   "outputs": [
    {
     "data": {
      "text/plain": [
       "'Paulista'"
      ]
     },
     "execution_count": 10,
     "metadata": {},
     "output_type": "execute_result"
    }
   ],
   "source": [
    "# Seleciona elemento linha 2, coluna 3\n",
    "dados.iloc[1, 2]     "
   ]
  },
  {
   "cell_type": "markdown",
   "id": "093024c2",
   "metadata": {
    "papermill": {
     "duration": 0.006976,
     "end_time": "2025-10-21T01:33:51.241591",
     "exception": false,
     "start_time": "2025-10-21T01:33:51.234615",
     "status": "completed"
    },
    "tags": []
   },
   "source": [
    "<h2>📌 Seleção por rótulo(label) com loc.</h2>"
   ]
  },
  {
   "cell_type": "code",
   "execution_count": 11,
   "id": "12ccbf67",
   "metadata": {
    "execution": {
     "iopub.execute_input": "2025-10-21T01:33:51.256393Z",
     "iopub.status.busy": "2025-10-21T01:33:51.255578Z",
     "iopub.status.idle": "2025-10-21T01:33:51.267052Z",
     "shell.execute_reply": "2025-10-21T01:33:51.266166Z"
    },
    "papermill": {
     "duration": 0.020575,
     "end_time": "2025-10-21T01:33:51.268843",
     "exception": false,
     "start_time": "2025-10-21T01:33:51.248268",
     "status": "completed"
    },
    "tags": []
   },
   "outputs": [
    {
     "data": {
      "text/html": [
       "<div>\n",
       "<style scoped>\n",
       "    .dataframe tbody tr th:only-of-type {\n",
       "        vertical-align: middle;\n",
       "    }\n",
       "\n",
       "    .dataframe tbody tr th {\n",
       "        vertical-align: top;\n",
       "    }\n",
       "\n",
       "    .dataframe thead th {\n",
       "        text-align: right;\n",
       "    }\n",
       "</style>\n",
       "<table border=\"1\" class=\"dataframe\">\n",
       "  <thead>\n",
       "    <tr style=\"text-align: right;\">\n",
       "      <th></th>\n",
       "      <th>nome</th>\n",
       "      <th>cidade</th>\n",
       "    </tr>\n",
       "  </thead>\n",
       "  <tbody>\n",
       "    <tr>\n",
       "      <th>0</th>\n",
       "      <td>Teresa</td>\n",
       "      <td>Recife</td>\n",
       "    </tr>\n",
       "    <tr>\n",
       "      <th>1</th>\n",
       "      <td>Soares</td>\n",
       "      <td>Paulista</td>\n",
       "    </tr>\n",
       "    <tr>\n",
       "      <th>2</th>\n",
       "      <td>Jose</td>\n",
       "      <td>Olinda</td>\n",
       "    </tr>\n",
       "  </tbody>\n",
       "</table>\n",
       "</div>"
      ],
      "text/plain": [
       "     nome    cidade\n",
       "0  Teresa    Recife\n",
       "1  Soares  Paulista\n",
       "2    Jose    Olinda"
      ]
     },
     "execution_count": 11,
     "metadata": {},
     "output_type": "execute_result"
    }
   ],
   "source": [
    "# Seleciona linhas com íntervalo de índices e nomes de colunas.\n",
    "dados.loc[0:2, ['nome', 'cidade']]                   "
   ]
  },
  {
   "cell_type": "code",
   "execution_count": 12,
   "id": "aa733ea4",
   "metadata": {
    "execution": {
     "iopub.execute_input": "2025-10-21T01:33:51.284229Z",
     "iopub.status.busy": "2025-10-21T01:33:51.283617Z",
     "iopub.status.idle": "2025-10-21T01:33:51.290456Z",
     "shell.execute_reply": "2025-10-21T01:33:51.289270Z"
    },
    "papermill": {
     "duration": 0.017135,
     "end_time": "2025-10-21T01:33:51.292839",
     "exception": false,
     "start_time": "2025-10-21T01:33:51.275704",
     "status": "completed"
    },
    "tags": []
   },
   "outputs": [],
   "source": [
    "# Definindo a coluna \"name\" como índice (rótulo das linhas).\n",
    "dados_loc = pd.DataFrame(dados).set_index('nome')"
   ]
  },
  {
   "cell_type": "code",
   "execution_count": 13,
   "id": "95b0404b",
   "metadata": {
    "execution": {
     "iopub.execute_input": "2025-10-21T01:33:51.309054Z",
     "iopub.status.busy": "2025-10-21T01:33:51.307897Z",
     "iopub.status.idle": "2025-10-21T01:33:51.320438Z",
     "shell.execute_reply": "2025-10-21T01:33:51.319317Z"
    },
    "papermill": {
     "duration": 0.022004,
     "end_time": "2025-10-21T01:33:51.322389",
     "exception": false,
     "start_time": "2025-10-21T01:33:51.300385",
     "status": "completed"
    },
    "tags": []
   },
   "outputs": [
    {
     "data": {
      "text/html": [
       "<div>\n",
       "<style scoped>\n",
       "    .dataframe tbody tr th:only-of-type {\n",
       "        vertical-align: middle;\n",
       "    }\n",
       "\n",
       "    .dataframe tbody tr th {\n",
       "        vertical-align: top;\n",
       "    }\n",
       "\n",
       "    .dataframe thead th {\n",
       "        text-align: right;\n",
       "    }\n",
       "</style>\n",
       "<table border=\"1\" class=\"dataframe\">\n",
       "  <thead>\n",
       "    <tr style=\"text-align: right;\">\n",
       "      <th></th>\n",
       "      <th>idade</th>\n",
       "      <th>cidade</th>\n",
       "      <th>salario</th>\n",
       "    </tr>\n",
       "    <tr>\n",
       "      <th>nome</th>\n",
       "      <th></th>\n",
       "      <th></th>\n",
       "      <th></th>\n",
       "    </tr>\n",
       "  </thead>\n",
       "  <tbody>\n",
       "    <tr>\n",
       "      <th>Teresa</th>\n",
       "      <td>3</td>\n",
       "      <td>Recife</td>\n",
       "      <td>3200</td>\n",
       "    </tr>\n",
       "    <tr>\n",
       "      <th>Teresa</th>\n",
       "      <td>56</td>\n",
       "      <td>Timbauba</td>\n",
       "      <td>7000</td>\n",
       "    </tr>\n",
       "  </tbody>\n",
       "</table>\n",
       "</div>"
      ],
      "text/plain": [
       "        idade    cidade  salario\n",
       "nome                            \n",
       "Teresa      3    Recife     3200\n",
       "Teresa     56  Timbauba     7000"
      ]
     },
     "execution_count": 13,
     "metadata": {},
     "output_type": "execute_result"
    }
   ],
   "source": [
    "# Seleciona uma linha pelo rótulo.\n",
    "dados_loc.loc['Teresa']"
   ]
  },
  {
   "cell_type": "code",
   "execution_count": 14,
   "id": "a1dfed53",
   "metadata": {
    "execution": {
     "iopub.execute_input": "2025-10-21T01:33:51.339722Z",
     "iopub.status.busy": "2025-10-21T01:33:51.339316Z",
     "iopub.status.idle": "2025-10-21T01:33:51.351950Z",
     "shell.execute_reply": "2025-10-21T01:33:51.350558Z"
    },
    "papermill": {
     "duration": 0.023443,
     "end_time": "2025-10-21T01:33:51.354072",
     "exception": false,
     "start_time": "2025-10-21T01:33:51.330629",
     "status": "completed"
    },
    "tags": []
   },
   "outputs": [
    {
     "data": {
      "text/html": [
       "<div>\n",
       "<style scoped>\n",
       "    .dataframe tbody tr th:only-of-type {\n",
       "        vertical-align: middle;\n",
       "    }\n",
       "\n",
       "    .dataframe tbody tr th {\n",
       "        vertical-align: top;\n",
       "    }\n",
       "\n",
       "    .dataframe thead th {\n",
       "        text-align: right;\n",
       "    }\n",
       "</style>\n",
       "<table border=\"1\" class=\"dataframe\">\n",
       "  <thead>\n",
       "    <tr style=\"text-align: right;\">\n",
       "      <th></th>\n",
       "      <th>idade</th>\n",
       "      <th>cidade</th>\n",
       "      <th>salario</th>\n",
       "    </tr>\n",
       "    <tr>\n",
       "      <th>nome</th>\n",
       "      <th></th>\n",
       "      <th></th>\n",
       "      <th></th>\n",
       "    </tr>\n",
       "  </thead>\n",
       "  <tbody>\n",
       "    <tr>\n",
       "      <th>Carlos</th>\n",
       "      <td>48</td>\n",
       "      <td>Caruaru</td>\n",
       "      <td>3700</td>\n",
       "    </tr>\n",
       "    <tr>\n",
       "      <th>Teresa</th>\n",
       "      <td>3</td>\n",
       "      <td>Recife</td>\n",
       "      <td>3200</td>\n",
       "    </tr>\n",
       "    <tr>\n",
       "      <th>Teresa</th>\n",
       "      <td>56</td>\n",
       "      <td>Timbauba</td>\n",
       "      <td>7000</td>\n",
       "    </tr>\n",
       "  </tbody>\n",
       "</table>\n",
       "</div>"
      ],
      "text/plain": [
       "        idade    cidade  salario\n",
       "nome                            \n",
       "Carlos     48   Caruaru     3700\n",
       "Teresa      3    Recife     3200\n",
       "Teresa     56  Timbauba     7000"
      ]
     },
     "execution_count": 14,
     "metadata": {},
     "output_type": "execute_result"
    }
   ],
   "source": [
    "# Seleciona uma linha pelo rótulo.\n",
    "dados_loc.loc[['Carlos', 'Teresa']]"
   ]
  },
  {
   "cell_type": "code",
   "execution_count": 15,
   "id": "715ae0b6",
   "metadata": {
    "execution": {
     "iopub.execute_input": "2025-10-21T01:33:51.370660Z",
     "iopub.status.busy": "2025-10-21T01:33:51.370178Z",
     "iopub.status.idle": "2025-10-21T01:33:51.378456Z",
     "shell.execute_reply": "2025-10-21T01:33:51.377106Z"
    },
    "papermill": {
     "duration": 0.018821,
     "end_time": "2025-10-21T01:33:51.380395",
     "exception": false,
     "start_time": "2025-10-21T01:33:51.361574",
     "status": "completed"
    },
    "tags": []
   },
   "outputs": [
    {
     "data": {
      "text/plain": [
       "4500"
      ]
     },
     "execution_count": 15,
     "metadata": {},
     "output_type": "execute_result"
    }
   ],
   "source": [
    "# Seleciona linha e coluna.\n",
    "dados_loc.loc['Soares', 'salario']"
   ]
  },
  {
   "cell_type": "code",
   "execution_count": 16,
   "id": "a179db1e",
   "metadata": {
    "execution": {
     "iopub.execute_input": "2025-10-21T01:33:51.402810Z",
     "iopub.status.busy": "2025-10-21T01:33:51.400761Z",
     "iopub.status.idle": "2025-10-21T01:33:51.421631Z",
     "shell.execute_reply": "2025-10-21T01:33:51.420254Z"
    },
    "papermill": {
     "duration": 0.033198,
     "end_time": "2025-10-21T01:33:51.423650",
     "exception": false,
     "start_time": "2025-10-21T01:33:51.390452",
     "status": "completed"
    },
    "tags": []
   },
   "outputs": [
    {
     "data": {
      "text/html": [
       "<div>\n",
       "<style scoped>\n",
       "    .dataframe tbody tr th:only-of-type {\n",
       "        vertical-align: middle;\n",
       "    }\n",
       "\n",
       "    .dataframe tbody tr th {\n",
       "        vertical-align: top;\n",
       "    }\n",
       "\n",
       "    .dataframe thead th {\n",
       "        text-align: right;\n",
       "    }\n",
       "</style>\n",
       "<table border=\"1\" class=\"dataframe\">\n",
       "  <thead>\n",
       "    <tr style=\"text-align: right;\">\n",
       "      <th></th>\n",
       "      <th>idade</th>\n",
       "      <th>cidade</th>\n",
       "    </tr>\n",
       "    <tr>\n",
       "      <th>nome</th>\n",
       "      <th></th>\n",
       "      <th></th>\n",
       "    </tr>\n",
       "  </thead>\n",
       "  <tbody>\n",
       "    <tr>\n",
       "      <th>Soares</th>\n",
       "      <td>35</td>\n",
       "      <td>Paulista</td>\n",
       "    </tr>\n",
       "    <tr>\n",
       "      <th>Jose</th>\n",
       "      <td>31</td>\n",
       "      <td>Olinda</td>\n",
       "    </tr>\n",
       "  </tbody>\n",
       "</table>\n",
       "</div>"
      ],
      "text/plain": [
       "        idade    cidade\n",
       "nome                   \n",
       "Soares     35  Paulista\n",
       "Jose       31    Olinda"
      ]
     },
     "execution_count": 16,
     "metadata": {},
     "output_type": "execute_result"
    }
   ],
   "source": [
    "# Seleciona linhas e colunas específicas.\n",
    "dados_loc.loc['Soares':'Jose', ['idade', 'cidade']]"
   ]
  },
  {
   "cell_type": "markdown",
   "id": "6da00926",
   "metadata": {
    "papermill": {
     "duration": 0.007092,
     "end_time": "2025-10-21T01:33:51.439738",
     "exception": false,
     "start_time": "2025-10-21T01:33:51.432646",
     "status": "completed"
    },
    "tags": []
   },
   "source": [
    "<h2>📌 Seleção por valores nulos ou duplicados</h2>"
   ]
  },
  {
   "cell_type": "code",
   "execution_count": 17,
   "id": "87b8e280",
   "metadata": {
    "execution": {
     "iopub.execute_input": "2025-10-21T01:33:51.457565Z",
     "iopub.status.busy": "2025-10-21T01:33:51.457228Z",
     "iopub.status.idle": "2025-10-21T01:33:51.467691Z",
     "shell.execute_reply": "2025-10-21T01:33:51.466088Z"
    },
    "papermill": {
     "duration": 0.022775,
     "end_time": "2025-10-21T01:33:51.469590",
     "exception": false,
     "start_time": "2025-10-21T01:33:51.446815",
     "status": "completed"
    },
    "tags": []
   },
   "outputs": [
    {
     "data": {
      "text/html": [
       "<div>\n",
       "<style scoped>\n",
       "    .dataframe tbody tr th:only-of-type {\n",
       "        vertical-align: middle;\n",
       "    }\n",
       "\n",
       "    .dataframe tbody tr th {\n",
       "        vertical-align: top;\n",
       "    }\n",
       "\n",
       "    .dataframe thead th {\n",
       "        text-align: right;\n",
       "    }\n",
       "</style>\n",
       "<table border=\"1\" class=\"dataframe\">\n",
       "  <thead>\n",
       "    <tr style=\"text-align: right;\">\n",
       "      <th></th>\n",
       "      <th>nome</th>\n",
       "      <th>idade</th>\n",
       "      <th>cidade</th>\n",
       "      <th>salario</th>\n",
       "    </tr>\n",
       "  </thead>\n",
       "  <tbody>\n",
       "  </tbody>\n",
       "</table>\n",
       "</div>"
      ],
      "text/plain": [
       "Empty DataFrame\n",
       "Columns: [nome, idade, cidade, salario]\n",
       "Index: []"
      ]
     },
     "execution_count": 17,
     "metadata": {},
     "output_type": "execute_result"
    }
   ],
   "source": [
    "# Seleção por dados nulos.\n",
    "dados[dados['idade'].isna()] "
   ]
  },
  {
   "cell_type": "code",
   "execution_count": 18,
   "id": "27f28ad1",
   "metadata": {
    "execution": {
     "iopub.execute_input": "2025-10-21T01:33:51.485595Z",
     "iopub.status.busy": "2025-10-21T01:33:51.485283Z",
     "iopub.status.idle": "2025-10-21T01:33:51.496152Z",
     "shell.execute_reply": "2025-10-21T01:33:51.494988Z"
    },
    "papermill": {
     "duration": 0.020612,
     "end_time": "2025-10-21T01:33:51.497783",
     "exception": false,
     "start_time": "2025-10-21T01:33:51.477171",
     "status": "completed"
    },
    "tags": []
   },
   "outputs": [
    {
     "data": {
      "text/html": [
       "<div>\n",
       "<style scoped>\n",
       "    .dataframe tbody tr th:only-of-type {\n",
       "        vertical-align: middle;\n",
       "    }\n",
       "\n",
       "    .dataframe tbody tr th {\n",
       "        vertical-align: top;\n",
       "    }\n",
       "\n",
       "    .dataframe thead th {\n",
       "        text-align: right;\n",
       "    }\n",
       "</style>\n",
       "<table border=\"1\" class=\"dataframe\">\n",
       "  <thead>\n",
       "    <tr style=\"text-align: right;\">\n",
       "      <th></th>\n",
       "      <th>nome</th>\n",
       "      <th>idade</th>\n",
       "      <th>cidade</th>\n",
       "      <th>salario</th>\n",
       "    </tr>\n",
       "  </thead>\n",
       "  <tbody>\n",
       "    <tr>\n",
       "      <th>0</th>\n",
       "      <td>Teresa</td>\n",
       "      <td>3</td>\n",
       "      <td>Recife</td>\n",
       "      <td>3200</td>\n",
       "    </tr>\n",
       "    <tr>\n",
       "      <th>1</th>\n",
       "      <td>Soares</td>\n",
       "      <td>35</td>\n",
       "      <td>Paulista</td>\n",
       "      <td>4500</td>\n",
       "    </tr>\n",
       "    <tr>\n",
       "      <th>2</th>\n",
       "      <td>Jose</td>\n",
       "      <td>31</td>\n",
       "      <td>Olinda</td>\n",
       "      <td>5000</td>\n",
       "    </tr>\n",
       "    <tr>\n",
       "      <th>3</th>\n",
       "      <td>Carlos</td>\n",
       "      <td>48</td>\n",
       "      <td>Caruaru</td>\n",
       "      <td>3700</td>\n",
       "    </tr>\n",
       "    <tr>\n",
       "      <th>4</th>\n",
       "      <td>Maria</td>\n",
       "      <td>40</td>\n",
       "      <td>Petrolina</td>\n",
       "      <td>6000</td>\n",
       "    </tr>\n",
       "    <tr>\n",
       "      <th>5</th>\n",
       "      <td>Teresa</td>\n",
       "      <td>56</td>\n",
       "      <td>Timbauba</td>\n",
       "      <td>7000</td>\n",
       "    </tr>\n",
       "  </tbody>\n",
       "</table>\n",
       "</div>"
      ],
      "text/plain": [
       "     nome  idade     cidade  salario\n",
       "0  Teresa      3     Recife     3200\n",
       "1  Soares     35   Paulista     4500\n",
       "2    Jose     31     Olinda     5000\n",
       "3  Carlos     48    Caruaru     3700\n",
       "4   Maria     40  Petrolina     6000\n",
       "5  Teresa     56   Timbauba     7000"
      ]
     },
     "execution_count": 18,
     "metadata": {},
     "output_type": "execute_result"
    }
   ],
   "source": [
    "# Seleciona linhas sem valores nulos.\n",
    "dados[dados['idade'].notna()]"
   ]
  },
  {
   "cell_type": "code",
   "execution_count": 19,
   "id": "4c835b6b",
   "metadata": {
    "execution": {
     "iopub.execute_input": "2025-10-21T01:33:51.515030Z",
     "iopub.status.busy": "2025-10-21T01:33:51.513917Z",
     "iopub.status.idle": "2025-10-21T01:33:51.526206Z",
     "shell.execute_reply": "2025-10-21T01:33:51.524803Z"
    },
    "papermill": {
     "duration": 0.022995,
     "end_time": "2025-10-21T01:33:51.527978",
     "exception": false,
     "start_time": "2025-10-21T01:33:51.504983",
     "status": "completed"
    },
    "tags": []
   },
   "outputs": [
    {
     "data": {
      "text/html": [
       "<div>\n",
       "<style scoped>\n",
       "    .dataframe tbody tr th:only-of-type {\n",
       "        vertical-align: middle;\n",
       "    }\n",
       "\n",
       "    .dataframe tbody tr th {\n",
       "        vertical-align: top;\n",
       "    }\n",
       "\n",
       "    .dataframe thead th {\n",
       "        text-align: right;\n",
       "    }\n",
       "</style>\n",
       "<table border=\"1\" class=\"dataframe\">\n",
       "  <thead>\n",
       "    <tr style=\"text-align: right;\">\n",
       "      <th></th>\n",
       "      <th>nome</th>\n",
       "      <th>idade</th>\n",
       "      <th>cidade</th>\n",
       "      <th>salario</th>\n",
       "    </tr>\n",
       "  </thead>\n",
       "  <tbody>\n",
       "    <tr>\n",
       "      <th>0</th>\n",
       "      <td>Teresa</td>\n",
       "      <td>3</td>\n",
       "      <td>Recife</td>\n",
       "      <td>3200</td>\n",
       "    </tr>\n",
       "    <tr>\n",
       "      <th>5</th>\n",
       "      <td>Teresa</td>\n",
       "      <td>56</td>\n",
       "      <td>Timbauba</td>\n",
       "      <td>7000</td>\n",
       "    </tr>\n",
       "  </tbody>\n",
       "</table>\n",
       "</div>"
      ],
      "text/plain": [
       "     nome  idade    cidade  salario\n",
       "0  Teresa      3    Recife     3200\n",
       "5  Teresa     56  Timbauba     7000"
      ]
     },
     "execution_count": 19,
     "metadata": {},
     "output_type": "execute_result"
    }
   ],
   "source": [
    "# Seleciona valores duplicados.\n",
    "dados[dados.duplicated('nome', keep=False)]"
   ]
  },
  {
   "cell_type": "markdown",
   "id": "1d43aec1",
   "metadata": {
    "papermill": {
     "duration": 0.006702,
     "end_time": "2025-10-21T01:33:51.542041",
     "exception": false,
     "start_time": "2025-10-21T01:33:51.535339",
     "status": "completed"
    },
    "tags": []
   },
   "source": [
    "<h2>📌 Seleção e ordenação de dados</h2>"
   ]
  },
  {
   "cell_type": "code",
   "execution_count": 20,
   "id": "71c976af",
   "metadata": {
    "execution": {
     "iopub.execute_input": "2025-10-21T01:33:51.559658Z",
     "iopub.status.busy": "2025-10-21T01:33:51.559262Z",
     "iopub.status.idle": "2025-10-21T01:33:51.571599Z",
     "shell.execute_reply": "2025-10-21T01:33:51.570537Z"
    },
    "papermill": {
     "duration": 0.024269,
     "end_time": "2025-10-21T01:33:51.573340",
     "exception": false,
     "start_time": "2025-10-21T01:33:51.549071",
     "status": "completed"
    },
    "tags": []
   },
   "outputs": [
    {
     "data": {
      "text/html": [
       "<div>\n",
       "<style scoped>\n",
       "    .dataframe tbody tr th:only-of-type {\n",
       "        vertical-align: middle;\n",
       "    }\n",
       "\n",
       "    .dataframe tbody tr th {\n",
       "        vertical-align: top;\n",
       "    }\n",
       "\n",
       "    .dataframe thead th {\n",
       "        text-align: right;\n",
       "    }\n",
       "</style>\n",
       "<table border=\"1\" class=\"dataframe\">\n",
       "  <thead>\n",
       "    <tr style=\"text-align: right;\">\n",
       "      <th></th>\n",
       "      <th>nome</th>\n",
       "      <th>idade</th>\n",
       "      <th>cidade</th>\n",
       "      <th>salario</th>\n",
       "    </tr>\n",
       "  </thead>\n",
       "  <tbody>\n",
       "    <tr>\n",
       "      <th>0</th>\n",
       "      <td>Teresa</td>\n",
       "      <td>3</td>\n",
       "      <td>Recife</td>\n",
       "      <td>3200</td>\n",
       "    </tr>\n",
       "    <tr>\n",
       "      <th>2</th>\n",
       "      <td>Jose</td>\n",
       "      <td>31</td>\n",
       "      <td>Olinda</td>\n",
       "      <td>5000</td>\n",
       "    </tr>\n",
       "    <tr>\n",
       "      <th>1</th>\n",
       "      <td>Soares</td>\n",
       "      <td>35</td>\n",
       "      <td>Paulista</td>\n",
       "      <td>4500</td>\n",
       "    </tr>\n",
       "    <tr>\n",
       "      <th>4</th>\n",
       "      <td>Maria</td>\n",
       "      <td>40</td>\n",
       "      <td>Petrolina</td>\n",
       "      <td>6000</td>\n",
       "    </tr>\n",
       "    <tr>\n",
       "      <th>3</th>\n",
       "      <td>Carlos</td>\n",
       "      <td>48</td>\n",
       "      <td>Caruaru</td>\n",
       "      <td>3700</td>\n",
       "    </tr>\n",
       "    <tr>\n",
       "      <th>5</th>\n",
       "      <td>Teresa</td>\n",
       "      <td>56</td>\n",
       "      <td>Timbauba</td>\n",
       "      <td>7000</td>\n",
       "    </tr>\n",
       "  </tbody>\n",
       "</table>\n",
       "</div>"
      ],
      "text/plain": [
       "     nome  idade     cidade  salario\n",
       "0  Teresa      3     Recife     3200\n",
       "2    Jose     31     Olinda     5000\n",
       "1  Soares     35   Paulista     4500\n",
       "4   Maria     40  Petrolina     6000\n",
       "3  Carlos     48    Caruaru     3700\n",
       "5  Teresa     56   Timbauba     7000"
      ]
     },
     "execution_count": 20,
     "metadata": {},
     "output_type": "execute_result"
    }
   ],
   "source": [
    "# Seleciona e ordena por idade.\n",
    "dados.sort_values('idade', ascending=True)"
   ]
  },
  {
   "cell_type": "markdown",
   "id": "b2f994d1",
   "metadata": {
    "papermill": {
     "duration": 0.008575,
     "end_time": "2025-10-21T01:33:51.589151",
     "exception": false,
     "start_time": "2025-10-21T01:33:51.580576",
     "status": "completed"
    },
    "tags": []
   },
   "source": [
    "<h2>📌 Seleção de célula única com .at[] e .iat[]</h2>"
   ]
  },
  {
   "cell_type": "code",
   "execution_count": 21,
   "id": "58eeb41a",
   "metadata": {
    "execution": {
     "iopub.execute_input": "2025-10-21T01:33:51.606449Z",
     "iopub.status.busy": "2025-10-21T01:33:51.606085Z",
     "iopub.status.idle": "2025-10-21T01:33:51.614309Z",
     "shell.execute_reply": "2025-10-21T01:33:51.612476Z"
    },
    "papermill": {
     "duration": 0.01943,
     "end_time": "2025-10-21T01:33:51.616203",
     "exception": false,
     "start_time": "2025-10-21T01:33:51.596773",
     "status": "completed"
    },
    "tags": []
   },
   "outputs": [
    {
     "data": {
      "text/plain": [
       "'Olinda'"
      ]
     },
     "execution_count": 21,
     "metadata": {},
     "output_type": "execute_result"
    }
   ],
   "source": [
    "# Seleciona Valor da coluna da terceira linha. \n",
    "dados.at[2, 'cidade']"
   ]
  },
  {
   "cell_type": "code",
   "execution_count": 22,
   "id": "17cdb940",
   "metadata": {
    "execution": {
     "iopub.execute_input": "2025-10-21T01:33:51.632236Z",
     "iopub.status.busy": "2025-10-21T01:33:51.631869Z",
     "iopub.status.idle": "2025-10-21T01:33:51.638643Z",
     "shell.execute_reply": "2025-10-21T01:33:51.637496Z"
    },
    "papermill": {
     "duration": 0.016836,
     "end_time": "2025-10-21T01:33:51.640439",
     "exception": false,
     "start_time": "2025-10-21T01:33:51.623603",
     "status": "completed"
    },
    "tags": []
   },
   "outputs": [
    {
     "data": {
      "text/plain": [
       "'Olinda'"
      ]
     },
     "execution_count": 22,
     "metadata": {},
     "output_type": "execute_result"
    }
   ],
   "source": [
    "# Seleciona o valor da terceira linha da terceira coluna.\n",
    "dados.iat[2, 2]"
   ]
  },
  {
   "cell_type": "markdown",
   "id": "e1bccd7e",
   "metadata": {
    "papermill": {
     "duration": 0.00765,
     "end_time": "2025-10-21T01:33:51.655313",
     "exception": false,
     "start_time": "2025-10-21T01:33:51.647663",
     "status": "completed"
    },
    "tags": []
   },
   "source": [
    "<h2>📌 Seleção com amostragem e limites</h2>"
   ]
  },
  {
   "cell_type": "code",
   "execution_count": 23,
   "id": "6034e0ae",
   "metadata": {
    "execution": {
     "iopub.execute_input": "2025-10-21T01:33:51.671616Z",
     "iopub.status.busy": "2025-10-21T01:33:51.671300Z",
     "iopub.status.idle": "2025-10-21T01:33:51.681231Z",
     "shell.execute_reply": "2025-10-21T01:33:51.680014Z"
    },
    "papermill": {
     "duration": 0.020089,
     "end_time": "2025-10-21T01:33:51.682973",
     "exception": false,
     "start_time": "2025-10-21T01:33:51.662884",
     "status": "completed"
    },
    "tags": []
   },
   "outputs": [
    {
     "data": {
      "text/html": [
       "<div>\n",
       "<style scoped>\n",
       "    .dataframe tbody tr th:only-of-type {\n",
       "        vertical-align: middle;\n",
       "    }\n",
       "\n",
       "    .dataframe tbody tr th {\n",
       "        vertical-align: top;\n",
       "    }\n",
       "\n",
       "    .dataframe thead th {\n",
       "        text-align: right;\n",
       "    }\n",
       "</style>\n",
       "<table border=\"1\" class=\"dataframe\">\n",
       "  <thead>\n",
       "    <tr style=\"text-align: right;\">\n",
       "      <th></th>\n",
       "      <th>nome</th>\n",
       "      <th>idade</th>\n",
       "      <th>cidade</th>\n",
       "      <th>salario</th>\n",
       "    </tr>\n",
       "  </thead>\n",
       "  <tbody>\n",
       "    <tr>\n",
       "      <th>0</th>\n",
       "      <td>Teresa</td>\n",
       "      <td>3</td>\n",
       "      <td>Recife</td>\n",
       "      <td>3200</td>\n",
       "    </tr>\n",
       "    <tr>\n",
       "      <th>1</th>\n",
       "      <td>Soares</td>\n",
       "      <td>35</td>\n",
       "      <td>Paulista</td>\n",
       "      <td>4500</td>\n",
       "    </tr>\n",
       "    <tr>\n",
       "      <th>2</th>\n",
       "      <td>Jose</td>\n",
       "      <td>31</td>\n",
       "      <td>Olinda</td>\n",
       "      <td>5000</td>\n",
       "    </tr>\n",
       "  </tbody>\n",
       "</table>\n",
       "</div>"
      ],
      "text/plain": [
       "     nome  idade    cidade  salario\n",
       "0  Teresa      3    Recife     3200\n",
       "1  Soares     35  Paulista     4500\n",
       "2    Jose     31    Olinda     5000"
      ]
     },
     "execution_count": 23,
     "metadata": {},
     "output_type": "execute_result"
    }
   ],
   "source": [
    "# Seleciona as 3 primeiras linhas\n",
    "dados.head(3)"
   ]
  },
  {
   "cell_type": "code",
   "execution_count": 24,
   "id": "595c0e0e",
   "metadata": {
    "execution": {
     "iopub.execute_input": "2025-10-21T01:33:51.700360Z",
     "iopub.status.busy": "2025-10-21T01:33:51.699976Z",
     "iopub.status.idle": "2025-10-21T01:33:51.710881Z",
     "shell.execute_reply": "2025-10-21T01:33:51.709848Z"
    },
    "papermill": {
     "duration": 0.022192,
     "end_time": "2025-10-21T01:33:51.712877",
     "exception": false,
     "start_time": "2025-10-21T01:33:51.690685",
     "status": "completed"
    },
    "tags": []
   },
   "outputs": [
    {
     "data": {
      "text/html": [
       "<div>\n",
       "<style scoped>\n",
       "    .dataframe tbody tr th:only-of-type {\n",
       "        vertical-align: middle;\n",
       "    }\n",
       "\n",
       "    .dataframe tbody tr th {\n",
       "        vertical-align: top;\n",
       "    }\n",
       "\n",
       "    .dataframe thead th {\n",
       "        text-align: right;\n",
       "    }\n",
       "</style>\n",
       "<table border=\"1\" class=\"dataframe\">\n",
       "  <thead>\n",
       "    <tr style=\"text-align: right;\">\n",
       "      <th></th>\n",
       "      <th>nome</th>\n",
       "      <th>idade</th>\n",
       "      <th>cidade</th>\n",
       "      <th>salario</th>\n",
       "    </tr>\n",
       "  </thead>\n",
       "  <tbody>\n",
       "    <tr>\n",
       "      <th>4</th>\n",
       "      <td>Maria</td>\n",
       "      <td>40</td>\n",
       "      <td>Petrolina</td>\n",
       "      <td>6000</td>\n",
       "    </tr>\n",
       "    <tr>\n",
       "      <th>5</th>\n",
       "      <td>Teresa</td>\n",
       "      <td>56</td>\n",
       "      <td>Timbauba</td>\n",
       "      <td>7000</td>\n",
       "    </tr>\n",
       "  </tbody>\n",
       "</table>\n",
       "</div>"
      ],
      "text/plain": [
       "     nome  idade     cidade  salario\n",
       "4   Maria     40  Petrolina     6000\n",
       "5  Teresa     56   Timbauba     7000"
      ]
     },
     "execution_count": 24,
     "metadata": {},
     "output_type": "execute_result"
    }
   ],
   "source": [
    "# Seleciona as 2 últimas linhas.\n",
    "dados.tail(2)  "
   ]
  },
  {
   "cell_type": "code",
   "execution_count": 25,
   "id": "54507399",
   "metadata": {
    "execution": {
     "iopub.execute_input": "2025-10-21T01:33:51.732381Z",
     "iopub.status.busy": "2025-10-21T01:33:51.732028Z",
     "iopub.status.idle": "2025-10-21T01:33:51.742675Z",
     "shell.execute_reply": "2025-10-21T01:33:51.741606Z"
    },
    "papermill": {
     "duration": 0.022948,
     "end_time": "2025-10-21T01:33:51.744524",
     "exception": false,
     "start_time": "2025-10-21T01:33:51.721576",
     "status": "completed"
    },
    "tags": []
   },
   "outputs": [
    {
     "data": {
      "text/html": [
       "<div>\n",
       "<style scoped>\n",
       "    .dataframe tbody tr th:only-of-type {\n",
       "        vertical-align: middle;\n",
       "    }\n",
       "\n",
       "    .dataframe tbody tr th {\n",
       "        vertical-align: top;\n",
       "    }\n",
       "\n",
       "    .dataframe thead th {\n",
       "        text-align: right;\n",
       "    }\n",
       "</style>\n",
       "<table border=\"1\" class=\"dataframe\">\n",
       "  <thead>\n",
       "    <tr style=\"text-align: right;\">\n",
       "      <th></th>\n",
       "      <th>nome</th>\n",
       "      <th>idade</th>\n",
       "      <th>cidade</th>\n",
       "      <th>salario</th>\n",
       "    </tr>\n",
       "  </thead>\n",
       "  <tbody>\n",
       "    <tr>\n",
       "      <th>3</th>\n",
       "      <td>Carlos</td>\n",
       "      <td>48</td>\n",
       "      <td>Caruaru</td>\n",
       "      <td>3700</td>\n",
       "    </tr>\n",
       "    <tr>\n",
       "      <th>4</th>\n",
       "      <td>Maria</td>\n",
       "      <td>40</td>\n",
       "      <td>Petrolina</td>\n",
       "      <td>6000</td>\n",
       "    </tr>\n",
       "  </tbody>\n",
       "</table>\n",
       "</div>"
      ],
      "text/plain": [
       "     nome  idade     cidade  salario\n",
       "3  Carlos     48    Caruaru     3700\n",
       "4   Maria     40  Petrolina     6000"
      ]
     },
     "execution_count": 25,
     "metadata": {},
     "output_type": "execute_result"
    }
   ],
   "source": [
    "# Seleciona 2 linhas aleatórias.\n",
    "dados.sample(2)  "
   ]
  }
 ],
 "metadata": {
  "kaggle": {
   "accelerator": "none",
   "dataSources": [],
   "dockerImageVersionId": 31153,
   "isGpuEnabled": false,
   "isInternetEnabled": true,
   "language": "python",
   "sourceType": "notebook"
  },
  "kernelspec": {
   "display_name": "Python 3",
   "language": "python",
   "name": "python3"
  },
  "language_info": {
   "codemirror_mode": {
    "name": "ipython",
    "version": 3
   },
   "file_extension": ".py",
   "mimetype": "text/x-python",
   "name": "python",
   "nbconvert_exporter": "python",
   "pygments_lexer": "ipython3",
   "version": "3.11.13"
  },
  "papermill": {
   "default_parameters": {},
   "duration": 9.641483,
   "end_time": "2025-10-21T01:33:52.274796",
   "environment_variables": {},
   "exception": null,
   "input_path": "__notebook__.ipynb",
   "output_path": "__notebook__.ipynb",
   "parameters": {},
   "start_time": "2025-10-21T01:33:42.633313",
   "version": "2.6.0"
  }
 },
 "nbformat": 4,
 "nbformat_minor": 5
}
